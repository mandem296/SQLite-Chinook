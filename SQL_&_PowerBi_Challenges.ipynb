{
  "nbformat": 4,
  "nbformat_minor": 0,
  "metadata": {
    "colab": {
      "provenance": [],
      "authorship_tag": "ABX9TyNsChZZEpBYceLo9mVoBUgZ",
      "include_colab_link": true
    },
    "kernelspec": {
      "name": "python3",
      "display_name": "Python 3"
    },
    "language_info": {
      "name": "python"
    }
  },
  "cells": [
    {
      "cell_type": "markdown",
      "metadata": {
        "id": "view-in-github",
        "colab_type": "text"
      },
      "source": [
        "<a href=\"https://colab.research.google.com/github/mandem296/SQLite-Chinook/blob/main/SQL_%26_PowerBi_Challenges.ipynb\" target=\"_parent\"><img src=\"https://colab.research.google.com/assets/colab-badge.svg\" alt=\"Open In Colab\"/></a>"
      ]
    },
    {
      "cell_type": "markdown",
      "source": [
        "# **CHALLENGES**"
      ],
      "metadata": {
        "id": "qVlz5eRMMJMJ"
      }
    },
    {
      "cell_type": "markdown",
      "source": [
        "## **Week 1 Daily Challenges**"
      ],
      "metadata": {
        "id": "7936VptIMRIv"
      }
    },
    {
      "cell_type": "markdown",
      "source": [
        "### **Day 1: Develop database called ABC_DATA and use it to store:**\n",
        "\n",
        "*   Customer info\n",
        "*   Customer orders\n",
        "*   Product info\n",
        "*   Order Info\n",
        "\n"
      ],
      "metadata": {
        "id": "xfgn4grgMXyD"
      }
    },
    {
      "cell_type": "code",
      "execution_count": 2,
      "metadata": {
        "colab": {
          "base_uri": "https://localhost:8080/"
        },
        "id": "OhhcyxBcL8_b",
        "outputId": "71f3002a-ddc2-47e9-b45e-7a20b2843486"
      },
      "outputs": [
        {
          "output_type": "stream",
          "name": "stdout",
          "text": [
            "Collecting pymysql\n",
            "  Downloading PyMySQL-1.1.0-py3-none-any.whl (44 kB)\n",
            "\u001b[?25l     \u001b[90m━━━━━━━━━━━━━━━━━━━━━━━━━━━━━━━━━━━━━━━━\u001b[0m \u001b[32m0.0/44.8 kB\u001b[0m \u001b[31m?\u001b[0m eta \u001b[36m-:--:--\u001b[0m\r\u001b[2K     \u001b[90m━━━━━━━━━━━━━━━━━━━━━━━━━━━━━━━━━━━━━━━━\u001b[0m \u001b[32m44.8/44.8 kB\u001b[0m \u001b[31m1.6 MB/s\u001b[0m eta \u001b[36m0:00:00\u001b[0m\n",
            "\u001b[?25hInstalling collected packages: pymysql\n",
            "Successfully installed pymysql-1.1.0\n"
          ]
        }
      ],
      "source": [
        "!pip install pymysql"
      ]
    },
    {
      "cell_type": "code",
      "source": [
        "%load_ext sql"
      ],
      "metadata": {
        "id": "aAYuPKNRNa_a"
      },
      "execution_count": 3,
      "outputs": []
    },
    {
      "cell_type": "code",
      "source": [
        "#Creating the database\n",
        "%sql sqlite:///ABC_DATA.db"
      ],
      "metadata": {
        "id": "Mj0M1nfhNemE"
      },
      "execution_count": 4,
      "outputs": []
    },
    {
      "cell_type": "code",
      "source": [
        "#creating the customers info table\n",
        "\n",
        "%%sql\n",
        "\n",
        "CREATE TABLE customers_info (\n",
        "  customer_id integer PRIMARY KEY,\n",
        "  customer_first_name varchar(100),\n",
        "  customer_last_name varchar(100),\n",
        "  customer_email varchar(100)\n",
        ");"
      ],
      "metadata": {
        "colab": {
          "base_uri": "https://localhost:8080/"
        },
        "id": "aVmlocwINsw9",
        "outputId": "cc0a8f81-1549-4e70-f8bd-15560c29b351"
      },
      "execution_count": 5,
      "outputs": [
        {
          "output_type": "stream",
          "name": "stdout",
          "text": [
            " * sqlite:///ABC_DATA.db\n",
            "Done.\n"
          ]
        },
        {
          "output_type": "execute_result",
          "data": {
            "text/plain": [
              "[]"
            ]
          },
          "metadata": {},
          "execution_count": 5
        }
      ]
    },
    {
      "cell_type": "code",
      "source": [
        "#creating the products table\n",
        "\n",
        "%%sql\n",
        "\n",
        "CREATE TABLE products (\n",
        "  product_id integer PRIMARY KEY,\n",
        "  product_name varchar(100),\n",
        "  price float(2)\n",
        ");"
      ],
      "metadata": {
        "colab": {
          "base_uri": "https://localhost:8080/"
        },
        "id": "Z1aoDAtxO0tU",
        "outputId": "ae2104e7-11e6-4e28-f400-a0d4c327ed58"
      },
      "execution_count": 7,
      "outputs": [
        {
          "output_type": "stream",
          "name": "stdout",
          "text": [
            " * sqlite:///ABC_DATA.db\n",
            "Done.\n"
          ]
        },
        {
          "output_type": "execute_result",
          "data": {
            "text/plain": [
              "[]"
            ]
          },
          "metadata": {},
          "execution_count": 7
        }
      ]
    },
    {
      "cell_type": "code",
      "source": [
        "#creating the orders table\n",
        "\n",
        "%%sql\n",
        "\n",
        "CREATE TABLE orders (\n",
        "  order_id integer PRIMARY KEY,\n",
        "  customer_id integer,\n",
        "  order_date DATE\n",
        ");"
      ],
      "metadata": {
        "colab": {
          "base_uri": "https://localhost:8080/"
        },
        "id": "5vpUk8qSPLg1",
        "outputId": "ba93dbdb-f79a-4e08-a95d-f94b0ffe5e0a"
      },
      "execution_count": 11,
      "outputs": [
        {
          "output_type": "stream",
          "name": "stdout",
          "text": [
            " * sqlite:///ABC_DATA.db\n",
            "Done.\n"
          ]
        },
        {
          "output_type": "execute_result",
          "data": {
            "text/plain": [
              "[]"
            ]
          },
          "metadata": {},
          "execution_count": 11
        }
      ]
    },
    {
      "cell_type": "code",
      "source": [
        "#creating the Order_items table\n",
        "\n",
        "%%sql\n",
        "\n",
        "CREATE TABLE order_items (\n",
        "  order_id integer,\n",
        "  product_id integer,\n",
        "  quantity integer\n",
        ");"
      ],
      "metadata": {
        "colab": {
          "base_uri": "https://localhost:8080/"
        },
        "id": "1eGJr2ZbPh9e",
        "outputId": "f4beea33-4b0d-4111-aa31-fd20f9911867"
      },
      "execution_count": 14,
      "outputs": [
        {
          "output_type": "stream",
          "name": "stdout",
          "text": [
            " * sqlite:///ABC_DATA.db\n",
            "Done.\n"
          ]
        },
        {
          "output_type": "execute_result",
          "data": {
            "text/plain": [
              "[]"
            ]
          },
          "metadata": {},
          "execution_count": 14
        }
      ]
    },
    {
      "cell_type": "code",
      "source": [
        "#Listing all column names in a particular table. We are looking at the schema\n",
        "\n",
        "%%sql\n",
        "\n",
        "PRAGMA table_info(customers_info)"
      ],
      "metadata": {
        "colab": {
          "base_uri": "https://localhost:8080/",
          "height": 162
        },
        "id": "kIf87aVnQik6",
        "outputId": "d34ffb5b-7636-410e-8243-878845948288"
      },
      "execution_count": 15,
      "outputs": [
        {
          "output_type": "stream",
          "name": "stdout",
          "text": [
            " * sqlite:///ABC_DATA.db\n",
            "Done.\n"
          ]
        },
        {
          "output_type": "execute_result",
          "data": {
            "text/plain": [
              "[(0, 'customer_id', 'INTEGER', 0, None, 1),\n",
              " (1, 'customer_first_name', 'varchar(100)', 0, None, 0),\n",
              " (2, 'customer_last_name', 'varchar(100)', 0, None, 0),\n",
              " (3, 'customer_email', 'varchar(100)', 0, None, 0)]"
            ],
            "text/html": [
              "<table>\n",
              "    <thead>\n",
              "        <tr>\n",
              "            <th>cid</th>\n",
              "            <th>name</th>\n",
              "            <th>type</th>\n",
              "            <th>notnull</th>\n",
              "            <th>dflt_value</th>\n",
              "            <th>pk</th>\n",
              "        </tr>\n",
              "    </thead>\n",
              "    <tbody>\n",
              "        <tr>\n",
              "            <td>0</td>\n",
              "            <td>customer_id</td>\n",
              "            <td>INTEGER</td>\n",
              "            <td>0</td>\n",
              "            <td>None</td>\n",
              "            <td>1</td>\n",
              "        </tr>\n",
              "        <tr>\n",
              "            <td>1</td>\n",
              "            <td>customer_first_name</td>\n",
              "            <td>varchar(100)</td>\n",
              "            <td>0</td>\n",
              "            <td>None</td>\n",
              "            <td>0</td>\n",
              "        </tr>\n",
              "        <tr>\n",
              "            <td>2</td>\n",
              "            <td>customer_last_name</td>\n",
              "            <td>varchar(100)</td>\n",
              "            <td>0</td>\n",
              "            <td>None</td>\n",
              "            <td>0</td>\n",
              "        </tr>\n",
              "        <tr>\n",
              "            <td>3</td>\n",
              "            <td>customer_email</td>\n",
              "            <td>varchar(100)</td>\n",
              "            <td>0</td>\n",
              "            <td>None</td>\n",
              "            <td>0</td>\n",
              "        </tr>\n",
              "    </tbody>\n",
              "</table>"
            ]
          },
          "metadata": {},
          "execution_count": 15
        }
      ]
    },
    {
      "cell_type": "code",
      "source": [
        "#Listing all column names in a particular table. We are looking at the schema\n",
        "\n",
        "%%sql\n",
        "\n",
        "PRAGMA table_info(products)"
      ],
      "metadata": {
        "colab": {
          "base_uri": "https://localhost:8080/",
          "height": 140
        },
        "id": "Cr6lbtJbRDGy",
        "outputId": "8e0001de-6681-4fd3-82a8-e4c13e463d4e"
      },
      "execution_count": 16,
      "outputs": [
        {
          "output_type": "stream",
          "name": "stdout",
          "text": [
            " * sqlite:///ABC_DATA.db\n",
            "Done.\n"
          ]
        },
        {
          "output_type": "execute_result",
          "data": {
            "text/plain": [
              "[(0, 'product_id', 'INTEGER', 0, None, 1),\n",
              " (1, 'product_name', 'varchar(100)', 0, None, 0),\n",
              " (2, 'price', 'float(2)', 0, None, 0)]"
            ],
            "text/html": [
              "<table>\n",
              "    <thead>\n",
              "        <tr>\n",
              "            <th>cid</th>\n",
              "            <th>name</th>\n",
              "            <th>type</th>\n",
              "            <th>notnull</th>\n",
              "            <th>dflt_value</th>\n",
              "            <th>pk</th>\n",
              "        </tr>\n",
              "    </thead>\n",
              "    <tbody>\n",
              "        <tr>\n",
              "            <td>0</td>\n",
              "            <td>product_id</td>\n",
              "            <td>INTEGER</td>\n",
              "            <td>0</td>\n",
              "            <td>None</td>\n",
              "            <td>1</td>\n",
              "        </tr>\n",
              "        <tr>\n",
              "            <td>1</td>\n",
              "            <td>product_name</td>\n",
              "            <td>varchar(100)</td>\n",
              "            <td>0</td>\n",
              "            <td>None</td>\n",
              "            <td>0</td>\n",
              "        </tr>\n",
              "        <tr>\n",
              "            <td>2</td>\n",
              "            <td>price</td>\n",
              "            <td>float(2)</td>\n",
              "            <td>0</td>\n",
              "            <td>None</td>\n",
              "            <td>0</td>\n",
              "        </tr>\n",
              "    </tbody>\n",
              "</table>"
            ]
          },
          "metadata": {},
          "execution_count": 16
        }
      ]
    },
    {
      "cell_type": "code",
      "source": [
        "#Listing all column names in a particular table. We are looking at the schema\n",
        "\n",
        "%%sql\n",
        "\n",
        "PRAGMA table_info(orders)"
      ],
      "metadata": {
        "colab": {
          "base_uri": "https://localhost:8080/",
          "height": 140
        },
        "id": "fp9X4MBPRKLY",
        "outputId": "f0609b11-a9ee-4991-a7cd-fbe282115808"
      },
      "execution_count": 17,
      "outputs": [
        {
          "output_type": "stream",
          "name": "stdout",
          "text": [
            " * sqlite:///ABC_DATA.db\n",
            "Done.\n"
          ]
        },
        {
          "output_type": "execute_result",
          "data": {
            "text/plain": [
              "[(0, 'order_id', 'INTEGER', 0, None, 1),\n",
              " (1, 'customer_id', 'INTEGER', 0, None, 0),\n",
              " (2, 'order_date', 'DATE', 0, None, 0)]"
            ],
            "text/html": [
              "<table>\n",
              "    <thead>\n",
              "        <tr>\n",
              "            <th>cid</th>\n",
              "            <th>name</th>\n",
              "            <th>type</th>\n",
              "            <th>notnull</th>\n",
              "            <th>dflt_value</th>\n",
              "            <th>pk</th>\n",
              "        </tr>\n",
              "    </thead>\n",
              "    <tbody>\n",
              "        <tr>\n",
              "            <td>0</td>\n",
              "            <td>order_id</td>\n",
              "            <td>INTEGER</td>\n",
              "            <td>0</td>\n",
              "            <td>None</td>\n",
              "            <td>1</td>\n",
              "        </tr>\n",
              "        <tr>\n",
              "            <td>1</td>\n",
              "            <td>customer_id</td>\n",
              "            <td>INTEGER</td>\n",
              "            <td>0</td>\n",
              "            <td>None</td>\n",
              "            <td>0</td>\n",
              "        </tr>\n",
              "        <tr>\n",
              "            <td>2</td>\n",
              "            <td>order_date</td>\n",
              "            <td>DATE</td>\n",
              "            <td>0</td>\n",
              "            <td>None</td>\n",
              "            <td>0</td>\n",
              "        </tr>\n",
              "    </tbody>\n",
              "</table>"
            ]
          },
          "metadata": {},
          "execution_count": 17
        }
      ]
    },
    {
      "cell_type": "code",
      "source": [
        "#Listing all column names in a particular table. We are looking at the schema\n",
        "\n",
        "%%sql\n",
        "\n",
        "PRAGMA table_info(order_items)"
      ],
      "metadata": {
        "colab": {
          "base_uri": "https://localhost:8080/",
          "height": 140
        },
        "id": "m1RVKp9tRN9A",
        "outputId": "dade55da-80ff-487c-8927-c83feaefb738"
      },
      "execution_count": 18,
      "outputs": [
        {
          "output_type": "stream",
          "name": "stdout",
          "text": [
            " * sqlite:///ABC_DATA.db\n",
            "Done.\n"
          ]
        },
        {
          "output_type": "execute_result",
          "data": {
            "text/plain": [
              "[(0, 'order_id', 'INTEGER', 0, None, 0),\n",
              " (1, 'product_id', 'INTEGER', 0, None, 0),\n",
              " (2, 'quantity', 'INTEGER', 0, None, 0)]"
            ],
            "text/html": [
              "<table>\n",
              "    <thead>\n",
              "        <tr>\n",
              "            <th>cid</th>\n",
              "            <th>name</th>\n",
              "            <th>type</th>\n",
              "            <th>notnull</th>\n",
              "            <th>dflt_value</th>\n",
              "            <th>pk</th>\n",
              "        </tr>\n",
              "    </thead>\n",
              "    <tbody>\n",
              "        <tr>\n",
              "            <td>0</td>\n",
              "            <td>order_id</td>\n",
              "            <td>INTEGER</td>\n",
              "            <td>0</td>\n",
              "            <td>None</td>\n",
              "            <td>0</td>\n",
              "        </tr>\n",
              "        <tr>\n",
              "            <td>1</td>\n",
              "            <td>product_id</td>\n",
              "            <td>INTEGER</td>\n",
              "            <td>0</td>\n",
              "            <td>None</td>\n",
              "            <td>0</td>\n",
              "        </tr>\n",
              "        <tr>\n",
              "            <td>2</td>\n",
              "            <td>quantity</td>\n",
              "            <td>INTEGER</td>\n",
              "            <td>0</td>\n",
              "            <td>None</td>\n",
              "            <td>0</td>\n",
              "        </tr>\n",
              "    </tbody>\n",
              "</table>"
            ]
          },
          "metadata": {},
          "execution_count": 18
        }
      ]
    },
    {
      "cell_type": "code",
      "source": [
        "#shows tables contained in the Chinook Database\n",
        "%%sql\n",
        "SELECT name FROM sqlite_master WHERE type IN ('table','view') AND name NOT LIKE 'sqlite_%' ORDER BY 1"
      ],
      "metadata": {
        "colab": {
          "base_uri": "https://localhost:8080/",
          "height": 162
        },
        "id": "XVz1UdTkQ1jP",
        "outputId": "7eb0757f-48ee-4001-b61a-892e3e4a6b01"
      },
      "execution_count": 19,
      "outputs": [
        {
          "output_type": "stream",
          "name": "stdout",
          "text": [
            " * sqlite:///ABC_DATA.db\n",
            "Done.\n"
          ]
        },
        {
          "output_type": "execute_result",
          "data": {
            "text/plain": [
              "[('customers_info',), ('order_items',), ('orders',), ('products',)]"
            ],
            "text/html": [
              "<table>\n",
              "    <thead>\n",
              "        <tr>\n",
              "            <th>name</th>\n",
              "        </tr>\n",
              "    </thead>\n",
              "    <tbody>\n",
              "        <tr>\n",
              "            <td>customers_info</td>\n",
              "        </tr>\n",
              "        <tr>\n",
              "            <td>order_items</td>\n",
              "        </tr>\n",
              "        <tr>\n",
              "            <td>orders</td>\n",
              "        </tr>\n",
              "        <tr>\n",
              "            <td>products</td>\n",
              "        </tr>\n",
              "    </tbody>\n",
              "</table>"
            ]
          },
          "metadata": {},
          "execution_count": 19
        }
      ]
    },
    {
      "cell_type": "markdown",
      "source": [],
      "metadata": {
        "id": "OLx7bJcDRfI7"
      }
    },
    {
      "cell_type": "markdown",
      "source": [
        "### **Day 2: Develop database called ABC_DATA and use it to store:**\n",
        "\n",
        "*   Customer info\n",
        "*   Customer orders\n",
        "*   Product info\n",
        "*   Order Info\n",
        "\n"
      ],
      "metadata": {
        "id": "Ww2gOSkuRghp"
      }
    }
  ]
}