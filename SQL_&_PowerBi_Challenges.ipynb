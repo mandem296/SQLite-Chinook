{
  "nbformat": 4,
  "nbformat_minor": 0,
  "metadata": {
    "colab": {
      "provenance": [],
      "authorship_tag": "ABX9TyM4m/Pjl+J/YOQfZS3S3z2A",
      "include_colab_link": true
    },
    "kernelspec": {
      "name": "python3",
      "display_name": "Python 3"
    },
    "language_info": {
      "name": "python"
    }
  },
  "cells": [
    {
      "cell_type": "markdown",
      "metadata": {
        "id": "view-in-github",
        "colab_type": "text"
      },
      "source": [
        "<a href=\"https://colab.research.google.com/github/mandem296/SQLite-Chinook/blob/main/SQL_%26_PowerBi_Challenges.ipynb\" target=\"_parent\"><img src=\"https://colab.research.google.com/assets/colab-badge.svg\" alt=\"Open In Colab\"/></a>"
      ]
    },
    {
      "cell_type": "markdown",
      "source": [
        "# **CHALLENGES**"
      ],
      "metadata": {
        "id": "qVlz5eRMMJMJ"
      }
    },
    {
      "cell_type": "markdown",
      "source": [
        "## **Week 1 Daily Challenges**"
      ],
      "metadata": {
        "id": "7936VptIMRIv"
      }
    },
    {
      "cell_type": "markdown",
      "source": [
        "### **Day 1: Develop database called ABC_DATA and use it to store:**\n",
        "\n",
        "*   Customer info\n",
        "*   Customer orders\n",
        "*   Product info\n",
        "*   Order Info\n",
        "\n"
      ],
      "metadata": {
        "id": "xfgn4grgMXyD"
      }
    },
    {
      "cell_type": "code",
      "execution_count": 1,
      "metadata": {
        "colab": {
          "base_uri": "https://localhost:8080/"
        },
        "id": "OhhcyxBcL8_b",
        "outputId": "dba87bed-c12b-4211-b8d8-cb413981241e"
      },
      "outputs": [
        {
          "output_type": "stream",
          "name": "stdout",
          "text": [
            "Collecting pymysql\n",
            "  Downloading PyMySQL-1.1.0-py3-none-any.whl (44 kB)\n",
            "\u001b[?25l     \u001b[90m━━━━━━━━━━━━━━━━━━━━━━━━━━━━━━━━━━━━━━━━\u001b[0m \u001b[32m0.0/44.8 kB\u001b[0m \u001b[31m?\u001b[0m eta \u001b[36m-:--:--\u001b[0m\r\u001b[2K     \u001b[90m━━━━━━━━━━━━━━━━━━━━━━━━━━━━━━━━━━━━━━━━\u001b[0m \u001b[32m44.8/44.8 kB\u001b[0m \u001b[31m1.3 MB/s\u001b[0m eta \u001b[36m0:00:00\u001b[0m\n",
            "\u001b[?25hInstalling collected packages: pymysql\n",
            "Successfully installed pymysql-1.1.0\n"
          ]
        }
      ],
      "source": [
        "!pip install pymysql"
      ]
    },
    {
      "cell_type": "code",
      "source": [
        "%load_ext sql"
      ],
      "metadata": {
        "id": "aAYuPKNRNa_a"
      },
      "execution_count": 2,
      "outputs": []
    },
    {
      "cell_type": "code",
      "source": [
        "#Creating the database\n",
        "%sql sqlite:///ABC_DATA.db"
      ],
      "metadata": {
        "id": "Mj0M1nfhNemE"
      },
      "execution_count": 3,
      "outputs": []
    },
    {
      "cell_type": "code",
      "source": [
        "#creating the customers info table\n",
        "\n",
        "%%sql\n",
        "\n",
        "CREATE TABLE customers_info (\n",
        "  customer_id integer PRIMARY KEY,\n",
        "  customer_first_name varchar(100),\n",
        "  customer_last_name varchar(100),\n",
        "  customer_email varchar(100)\n",
        ");"
      ],
      "metadata": {
        "colab": {
          "base_uri": "https://localhost:8080/"
        },
        "id": "aVmlocwINsw9",
        "outputId": "1cc28dc5-81ee-4c89-d83a-6cf6f618c8f3"
      },
      "execution_count": 4,
      "outputs": [
        {
          "output_type": "stream",
          "name": "stdout",
          "text": [
            " * sqlite:///ABC_DATA.db\n",
            "Done.\n"
          ]
        },
        {
          "output_type": "execute_result",
          "data": {
            "text/plain": [
              "[]"
            ]
          },
          "metadata": {},
          "execution_count": 4
        }
      ]
    },
    {
      "cell_type": "code",
      "source": [
        "#creating the products table\n",
        "\n",
        "%%sql\n",
        "\n",
        "CREATE TABLE products (\n",
        "  product_id integer PRIMARY KEY,\n",
        "  product_name varchar(100),\n",
        "  price float(4)\n",
        ");"
      ],
      "metadata": {
        "colab": {
          "base_uri": "https://localhost:8080/"
        },
        "id": "Z1aoDAtxO0tU",
        "outputId": "f0030721-2f6b-451d-ba34-fc61d1e877d5"
      },
      "execution_count": 5,
      "outputs": [
        {
          "output_type": "stream",
          "name": "stdout",
          "text": [
            " * sqlite:///ABC_DATA.db\n",
            "Done.\n"
          ]
        },
        {
          "output_type": "execute_result",
          "data": {
            "text/plain": [
              "[]"
            ]
          },
          "metadata": {},
          "execution_count": 5
        }
      ]
    },
    {
      "cell_type": "code",
      "source": [
        "#creating the orders table\n",
        "\n",
        "%%sql\n",
        "\n",
        "CREATE TABLE orders (\n",
        "  order_id integer PRIMARY KEY,\n",
        "  customer_id integer,\n",
        "  order_date DATE\n",
        ");"
      ],
      "metadata": {
        "colab": {
          "base_uri": "https://localhost:8080/"
        },
        "id": "5vpUk8qSPLg1",
        "outputId": "627b03d1-e8cb-49f3-8cd6-403e84a18ef0"
      },
      "execution_count": 6,
      "outputs": [
        {
          "output_type": "stream",
          "name": "stdout",
          "text": [
            " * sqlite:///ABC_DATA.db\n",
            "Done.\n"
          ]
        },
        {
          "output_type": "execute_result",
          "data": {
            "text/plain": [
              "[]"
            ]
          },
          "metadata": {},
          "execution_count": 6
        }
      ]
    },
    {
      "cell_type": "code",
      "source": [
        "#creating the Order_items table\n",
        "\n",
        "%%sql\n",
        "\n",
        "CREATE TABLE order_items (\n",
        "  order_id integer,\n",
        "  product_id integer,\n",
        "  quantity integer\n",
        ");"
      ],
      "metadata": {
        "colab": {
          "base_uri": "https://localhost:8080/"
        },
        "id": "1eGJr2ZbPh9e",
        "outputId": "f1e55e47-1efd-43b8-a41d-794a426db701"
      },
      "execution_count": 7,
      "outputs": [
        {
          "output_type": "stream",
          "name": "stdout",
          "text": [
            " * sqlite:///ABC_DATA.db\n",
            "Done.\n"
          ]
        },
        {
          "output_type": "execute_result",
          "data": {
            "text/plain": [
              "[]"
            ]
          },
          "metadata": {},
          "execution_count": 7
        }
      ]
    },
    {
      "cell_type": "code",
      "source": [
        "#Listing all column names in a particular table. We are looking at the schema\n",
        "\n",
        "%%sql\n",
        "\n",
        "PRAGMA table_info(customers_info)"
      ],
      "metadata": {
        "colab": {
          "base_uri": "https://localhost:8080/",
          "height": 162
        },
        "id": "kIf87aVnQik6",
        "outputId": "1dd65baa-f6a2-41a0-a201-52a4fe52717c"
      },
      "execution_count": 8,
      "outputs": [
        {
          "output_type": "stream",
          "name": "stdout",
          "text": [
            " * sqlite:///ABC_DATA.db\n",
            "Done.\n"
          ]
        },
        {
          "output_type": "execute_result",
          "data": {
            "text/plain": [
              "[(0, 'customer_id', 'INTEGER', 0, None, 1),\n",
              " (1, 'customer_first_name', 'varchar(100)', 0, None, 0),\n",
              " (2, 'customer_last_name', 'varchar(100)', 0, None, 0),\n",
              " (3, 'customer_email', 'varchar(100)', 0, None, 0)]"
            ],
            "text/html": [
              "<table>\n",
              "    <thead>\n",
              "        <tr>\n",
              "            <th>cid</th>\n",
              "            <th>name</th>\n",
              "            <th>type</th>\n",
              "            <th>notnull</th>\n",
              "            <th>dflt_value</th>\n",
              "            <th>pk</th>\n",
              "        </tr>\n",
              "    </thead>\n",
              "    <tbody>\n",
              "        <tr>\n",
              "            <td>0</td>\n",
              "            <td>customer_id</td>\n",
              "            <td>INTEGER</td>\n",
              "            <td>0</td>\n",
              "            <td>None</td>\n",
              "            <td>1</td>\n",
              "        </tr>\n",
              "        <tr>\n",
              "            <td>1</td>\n",
              "            <td>customer_first_name</td>\n",
              "            <td>varchar(100)</td>\n",
              "            <td>0</td>\n",
              "            <td>None</td>\n",
              "            <td>0</td>\n",
              "        </tr>\n",
              "        <tr>\n",
              "            <td>2</td>\n",
              "            <td>customer_last_name</td>\n",
              "            <td>varchar(100)</td>\n",
              "            <td>0</td>\n",
              "            <td>None</td>\n",
              "            <td>0</td>\n",
              "        </tr>\n",
              "        <tr>\n",
              "            <td>3</td>\n",
              "            <td>customer_email</td>\n",
              "            <td>varchar(100)</td>\n",
              "            <td>0</td>\n",
              "            <td>None</td>\n",
              "            <td>0</td>\n",
              "        </tr>\n",
              "    </tbody>\n",
              "</table>"
            ]
          },
          "metadata": {},
          "execution_count": 8
        }
      ]
    },
    {
      "cell_type": "code",
      "source": [
        "#Listing all column names in a particular table. We are looking at the schema\n",
        "\n",
        "%%sql\n",
        "\n",
        "PRAGMA table_info(products)"
      ],
      "metadata": {
        "colab": {
          "base_uri": "https://localhost:8080/",
          "height": 140
        },
        "id": "Cr6lbtJbRDGy",
        "outputId": "2a1c14f0-2f7d-4f11-9381-29ecd529289b"
      },
      "execution_count": 9,
      "outputs": [
        {
          "output_type": "stream",
          "name": "stdout",
          "text": [
            " * sqlite:///ABC_DATA.db\n",
            "Done.\n"
          ]
        },
        {
          "output_type": "execute_result",
          "data": {
            "text/plain": [
              "[(0, 'product_id', 'INTEGER', 0, None, 1),\n",
              " (1, 'product_name', 'varchar(100)', 0, None, 0),\n",
              " (2, 'price', 'float(4)', 0, None, 0)]"
            ],
            "text/html": [
              "<table>\n",
              "    <thead>\n",
              "        <tr>\n",
              "            <th>cid</th>\n",
              "            <th>name</th>\n",
              "            <th>type</th>\n",
              "            <th>notnull</th>\n",
              "            <th>dflt_value</th>\n",
              "            <th>pk</th>\n",
              "        </tr>\n",
              "    </thead>\n",
              "    <tbody>\n",
              "        <tr>\n",
              "            <td>0</td>\n",
              "            <td>product_id</td>\n",
              "            <td>INTEGER</td>\n",
              "            <td>0</td>\n",
              "            <td>None</td>\n",
              "            <td>1</td>\n",
              "        </tr>\n",
              "        <tr>\n",
              "            <td>1</td>\n",
              "            <td>product_name</td>\n",
              "            <td>varchar(100)</td>\n",
              "            <td>0</td>\n",
              "            <td>None</td>\n",
              "            <td>0</td>\n",
              "        </tr>\n",
              "        <tr>\n",
              "            <td>2</td>\n",
              "            <td>price</td>\n",
              "            <td>float(4)</td>\n",
              "            <td>0</td>\n",
              "            <td>None</td>\n",
              "            <td>0</td>\n",
              "        </tr>\n",
              "    </tbody>\n",
              "</table>"
            ]
          },
          "metadata": {},
          "execution_count": 9
        }
      ]
    },
    {
      "cell_type": "code",
      "source": [
        "#Listing all column names in a particular table. We are looking at the schema\n",
        "\n",
        "%%sql\n",
        "\n",
        "PRAGMA table_info(orders)"
      ],
      "metadata": {
        "colab": {
          "base_uri": "https://localhost:8080/",
          "height": 140
        },
        "id": "fp9X4MBPRKLY",
        "outputId": "9048f647-1193-4a5b-e3b3-b2e861e8d160"
      },
      "execution_count": 10,
      "outputs": [
        {
          "output_type": "stream",
          "name": "stdout",
          "text": [
            " * sqlite:///ABC_DATA.db\n",
            "Done.\n"
          ]
        },
        {
          "output_type": "execute_result",
          "data": {
            "text/plain": [
              "[(0, 'order_id', 'INTEGER', 0, None, 1),\n",
              " (1, 'customer_id', 'INTEGER', 0, None, 0),\n",
              " (2, 'order_date', 'DATE', 0, None, 0)]"
            ],
            "text/html": [
              "<table>\n",
              "    <thead>\n",
              "        <tr>\n",
              "            <th>cid</th>\n",
              "            <th>name</th>\n",
              "            <th>type</th>\n",
              "            <th>notnull</th>\n",
              "            <th>dflt_value</th>\n",
              "            <th>pk</th>\n",
              "        </tr>\n",
              "    </thead>\n",
              "    <tbody>\n",
              "        <tr>\n",
              "            <td>0</td>\n",
              "            <td>order_id</td>\n",
              "            <td>INTEGER</td>\n",
              "            <td>0</td>\n",
              "            <td>None</td>\n",
              "            <td>1</td>\n",
              "        </tr>\n",
              "        <tr>\n",
              "            <td>1</td>\n",
              "            <td>customer_id</td>\n",
              "            <td>INTEGER</td>\n",
              "            <td>0</td>\n",
              "            <td>None</td>\n",
              "            <td>0</td>\n",
              "        </tr>\n",
              "        <tr>\n",
              "            <td>2</td>\n",
              "            <td>order_date</td>\n",
              "            <td>DATE</td>\n",
              "            <td>0</td>\n",
              "            <td>None</td>\n",
              "            <td>0</td>\n",
              "        </tr>\n",
              "    </tbody>\n",
              "</table>"
            ]
          },
          "metadata": {},
          "execution_count": 10
        }
      ]
    },
    {
      "cell_type": "code",
      "source": [
        "#Listing all column names in a particular table. We are looking at the schema\n",
        "\n",
        "%%sql\n",
        "\n",
        "PRAGMA table_info(order_items)"
      ],
      "metadata": {
        "colab": {
          "base_uri": "https://localhost:8080/",
          "height": 140
        },
        "id": "m1RVKp9tRN9A",
        "outputId": "a056d2f4-570c-43be-c6f7-f85b61082b64"
      },
      "execution_count": 11,
      "outputs": [
        {
          "output_type": "stream",
          "name": "stdout",
          "text": [
            " * sqlite:///ABC_DATA.db\n",
            "Done.\n"
          ]
        },
        {
          "output_type": "execute_result",
          "data": {
            "text/plain": [
              "[(0, 'order_id', 'INTEGER', 0, None, 0),\n",
              " (1, 'product_id', 'INTEGER', 0, None, 0),\n",
              " (2, 'quantity', 'INTEGER', 0, None, 0)]"
            ],
            "text/html": [
              "<table>\n",
              "    <thead>\n",
              "        <tr>\n",
              "            <th>cid</th>\n",
              "            <th>name</th>\n",
              "            <th>type</th>\n",
              "            <th>notnull</th>\n",
              "            <th>dflt_value</th>\n",
              "            <th>pk</th>\n",
              "        </tr>\n",
              "    </thead>\n",
              "    <tbody>\n",
              "        <tr>\n",
              "            <td>0</td>\n",
              "            <td>order_id</td>\n",
              "            <td>INTEGER</td>\n",
              "            <td>0</td>\n",
              "            <td>None</td>\n",
              "            <td>0</td>\n",
              "        </tr>\n",
              "        <tr>\n",
              "            <td>1</td>\n",
              "            <td>product_id</td>\n",
              "            <td>INTEGER</td>\n",
              "            <td>0</td>\n",
              "            <td>None</td>\n",
              "            <td>0</td>\n",
              "        </tr>\n",
              "        <tr>\n",
              "            <td>2</td>\n",
              "            <td>quantity</td>\n",
              "            <td>INTEGER</td>\n",
              "            <td>0</td>\n",
              "            <td>None</td>\n",
              "            <td>0</td>\n",
              "        </tr>\n",
              "    </tbody>\n",
              "</table>"
            ]
          },
          "metadata": {},
          "execution_count": 11
        }
      ]
    },
    {
      "cell_type": "code",
      "source": [
        "#shows tables contained in the Chinook Database\n",
        "%%sql\n",
        "SELECT name FROM sqlite_master WHERE type IN ('table','view') AND name NOT LIKE 'sqlite_%' ORDER BY 1"
      ],
      "metadata": {
        "colab": {
          "base_uri": "https://localhost:8080/",
          "height": 162
        },
        "id": "XVz1UdTkQ1jP",
        "outputId": "3bf67f01-58de-4107-de72-d057e612cfe9"
      },
      "execution_count": 12,
      "outputs": [
        {
          "output_type": "stream",
          "name": "stdout",
          "text": [
            " * sqlite:///ABC_DATA.db\n",
            "Done.\n"
          ]
        },
        {
          "output_type": "execute_result",
          "data": {
            "text/plain": [
              "[('customers_info',), ('order_items',), ('orders',), ('products',)]"
            ],
            "text/html": [
              "<table>\n",
              "    <thead>\n",
              "        <tr>\n",
              "            <th>name</th>\n",
              "        </tr>\n",
              "    </thead>\n",
              "    <tbody>\n",
              "        <tr>\n",
              "            <td>customers_info</td>\n",
              "        </tr>\n",
              "        <tr>\n",
              "            <td>order_items</td>\n",
              "        </tr>\n",
              "        <tr>\n",
              "            <td>orders</td>\n",
              "        </tr>\n",
              "        <tr>\n",
              "            <td>products</td>\n",
              "        </tr>\n",
              "    </tbody>\n",
              "</table>"
            ]
          },
          "metadata": {},
          "execution_count": 12
        }
      ]
    },
    {
      "cell_type": "markdown",
      "source": [],
      "metadata": {
        "id": "OLx7bJcDRfI7"
      }
    },
    {
      "cell_type": "markdown",
      "source": [
        "### **Day 2: Inserting data into the tables**\n",
        "\n",
        "\n"
      ],
      "metadata": {
        "id": "Ww2gOSkuRghp"
      }
    },
    {
      "cell_type": "code",
      "source": [
        "%%sql\n",
        "\n",
        "    INSERT INTO products (product_id, product_name, price) VALUES\n",
        "    (1, 'Product A', 10.00),\n",
        "    (2, 'Product B', 15.00),\n",
        "    (3, 'Product C', 20.00),\n",
        "    (4, 'Product D', 25.00),\n",
        "    (5, 'Product E', 30.00),\n",
        "    (6, 'Product F', 35.00),\n",
        "    (7, 'Product G', 40.00),\n",
        "    (8, 'Product H', 45.00),\n",
        "    (9, 'Product I', 50.00),\n",
        "    (10, 'Product J', 55.00),\n",
        "    (11, 'Product K', 60.00),\n",
        "    (12, 'Product L', 65.00),\n",
        "    (13, 'Product M', 70.00);\n",
        "\n",
        "    INSERT INTO orders (order_id, customer_id, order_date) VALUES\n",
        "    (1, 1, '2023-05-01'),\n",
        "    (2, 2, '2023-05-02'),\n",
        "    (3, 3, '2023-05-03'),\n",
        "    (4, 1, '2023-05-04'),\n",
        "    (5, 2, '2023-05-05'),\n",
        "    (6, 3, '2023-05-06'),\n",
        "    (7, 4, '2023-05-07'),\n",
        "    (8, 5, '2023-05-08'),\n",
        "    (9, 6, '2023-05-09'),\n",
        "    (10, 7, '2023-05-10'),\n",
        "    (11, 8, '2023-05-11'),\n",
        "    (12, 9, '2023-05-12'),\n",
        "    (13, 10, '2023-05-13'),\n",
        "    (14, 11, '2023-05-14'),\n",
        "    (15, 12, '2023-05-15'),\n",
        "    (16, 13, '2023-05-16');\n",
        "\n",
        "    INSERT INTO order_items (order_id, product_id, quantity) VALUES\n",
        "    (1, 1, 2),\n",
        "    (1, 2, 1),\n",
        "    (2, 2, 1),\n",
        "    (2, 3, 3),\n",
        "    (3, 1, 1),\n",
        "    (3, 3, 2),\n",
        "    (4, 2, 4),\n",
        "    (4, 3, 1),\n",
        "    (5, 1, 1),\n",
        "    (5, 3, 2),\n",
        "    (6, 2, 3),\n",
        "    (6, 1, 1),\n",
        "    (7, 4, 1),\n",
        "    (7, 5, 2),\n",
        "    (8, 6, 3),\n",
        "    (8, 7, 1),\n",
        "    (9, 8, 2),\n",
        "    (9, 9, 1),\n",
        "    (10, 10, 3),\n",
        "    (10, 11, 2),\n",
        "    (11, 12, 1),\n",
        "    (11, 13, 3),\n",
        "    (12, 4, 2),\n",
        "    (12, 5, 1),\n",
        "    (13, 6, 3),\n",
        "    (13, 7, 2),\n",
        "    (14, 8, 1),\n",
        "    (14, 9, 2),\n",
        "    (15, 10, 3),\n",
        "    (15, 11, 1),\n",
        "    (16, 12, 2),\n",
        "    (16, 13, 3);"
      ],
      "metadata": {
        "colab": {
          "base_uri": "https://localhost:8080/"
        },
        "id": "uPyyaK90SBvL",
        "outputId": "edb8295a-817f-4be1-e817-9315aee71b26"
      },
      "execution_count": 13,
      "outputs": [
        {
          "output_type": "stream",
          "name": "stdout",
          "text": [
            " * sqlite:///ABC_DATA.db\n",
            "13 rows affected.\n",
            "16 rows affected.\n",
            "32 rows affected.\n"
          ]
        },
        {
          "output_type": "execute_result",
          "data": {
            "text/plain": [
              "[]"
            ]
          },
          "metadata": {},
          "execution_count": 13
        }
      ]
    },
    {
      "cell_type": "code",
      "source": [
        "%%sql\n",
        "\n",
        "INSERT INTO customers_info (customer_id, customer_first_name, customer_last_name, customer_email) VALUES\n",
        "    (1, 'John', 'Doe', 'johndoe@email.com'),\n",
        "    (2, 'Jane', 'Smith', 'janesmith@email.com'),\n",
        "    (3, 'Bob', 'Johnson', 'bobjohnson@email.com'),\n",
        "    (4, 'Alice', 'Brown', 'alicebrown@email.com'),\n",
        "    (5, 'Charlie', 'Davis', 'charliedavis@email.com'),\n",
        "    (6, 'Eva', 'Fisher', 'evafisher@email.com'),\n",
        "    (7, 'George', 'Harris', 'georgeharris@email.com'),\n",
        "    (8, 'Ivy', 'Jones', 'ivyjones@email.com'),\n",
        "    (9, 'Kevin', 'Miller', 'kevinmiller@email.com'),\n",
        "    (10, 'Lily', 'Nelson', 'lilynelson@email.com'),\n",
        "    (11, 'Oliver', 'Patterson', 'oliverpatterson@email.com'),\n",
        "    (12, 'Quinn', 'Roberts', 'quinnroberts@email.com'),\n",
        "    (13, 'Sophia', 'Thomas', 'sophiathomas@email.com');"
      ],
      "metadata": {
        "colab": {
          "base_uri": "https://localhost:8080/"
        },
        "id": "8HkdflukSc2z",
        "outputId": "2f03168f-7edf-47ac-bb92-a874707e861d"
      },
      "execution_count": 14,
      "outputs": [
        {
          "output_type": "stream",
          "name": "stdout",
          "text": [
            " * sqlite:///ABC_DATA.db\n",
            "13 rows affected.\n"
          ]
        },
        {
          "output_type": "execute_result",
          "data": {
            "text/plain": [
              "[]"
            ]
          },
          "metadata": {},
          "execution_count": 14
        }
      ]
    },
    {
      "cell_type": "code",
      "source": [
        "%%sql\n",
        "\n",
        "SELECT *\n",
        "\n",
        "FROM customers_info"
      ],
      "metadata": {
        "colab": {
          "base_uri": "https://localhost:8080/",
          "height": 354
        },
        "id": "Vdd4TrLKSwiE",
        "outputId": "844240ac-8fba-43b1-8e51-1f6619ed7005"
      },
      "execution_count": 15,
      "outputs": [
        {
          "output_type": "stream",
          "name": "stdout",
          "text": [
            " * sqlite:///ABC_DATA.db\n",
            "Done.\n"
          ]
        },
        {
          "output_type": "execute_result",
          "data": {
            "text/plain": [
              "[(1, 'John', 'Doe', 'johndoe@email.com'),\n",
              " (2, 'Jane', 'Smith', 'janesmith@email.com'),\n",
              " (3, 'Bob', 'Johnson', 'bobjohnson@email.com'),\n",
              " (4, 'Alice', 'Brown', 'alicebrown@email.com'),\n",
              " (5, 'Charlie', 'Davis', 'charliedavis@email.com'),\n",
              " (6, 'Eva', 'Fisher', 'evafisher@email.com'),\n",
              " (7, 'George', 'Harris', 'georgeharris@email.com'),\n",
              " (8, 'Ivy', 'Jones', 'ivyjones@email.com'),\n",
              " (9, 'Kevin', 'Miller', 'kevinmiller@email.com'),\n",
              " (10, 'Lily', 'Nelson', 'lilynelson@email.com'),\n",
              " (11, 'Oliver', 'Patterson', 'oliverpatterson@email.com'),\n",
              " (12, 'Quinn', 'Roberts', 'quinnroberts@email.com'),\n",
              " (13, 'Sophia', 'Thomas', 'sophiathomas@email.com')]"
            ],
            "text/html": [
              "<table>\n",
              "    <thead>\n",
              "        <tr>\n",
              "            <th>customer_id</th>\n",
              "            <th>customer_first_name</th>\n",
              "            <th>customer_last_name</th>\n",
              "            <th>customer_email</th>\n",
              "        </tr>\n",
              "    </thead>\n",
              "    <tbody>\n",
              "        <tr>\n",
              "            <td>1</td>\n",
              "            <td>John</td>\n",
              "            <td>Doe</td>\n",
              "            <td>johndoe@email.com</td>\n",
              "        </tr>\n",
              "        <tr>\n",
              "            <td>2</td>\n",
              "            <td>Jane</td>\n",
              "            <td>Smith</td>\n",
              "            <td>janesmith@email.com</td>\n",
              "        </tr>\n",
              "        <tr>\n",
              "            <td>3</td>\n",
              "            <td>Bob</td>\n",
              "            <td>Johnson</td>\n",
              "            <td>bobjohnson@email.com</td>\n",
              "        </tr>\n",
              "        <tr>\n",
              "            <td>4</td>\n",
              "            <td>Alice</td>\n",
              "            <td>Brown</td>\n",
              "            <td>alicebrown@email.com</td>\n",
              "        </tr>\n",
              "        <tr>\n",
              "            <td>5</td>\n",
              "            <td>Charlie</td>\n",
              "            <td>Davis</td>\n",
              "            <td>charliedavis@email.com</td>\n",
              "        </tr>\n",
              "        <tr>\n",
              "            <td>6</td>\n",
              "            <td>Eva</td>\n",
              "            <td>Fisher</td>\n",
              "            <td>evafisher@email.com</td>\n",
              "        </tr>\n",
              "        <tr>\n",
              "            <td>7</td>\n",
              "            <td>George</td>\n",
              "            <td>Harris</td>\n",
              "            <td>georgeharris@email.com</td>\n",
              "        </tr>\n",
              "        <tr>\n",
              "            <td>8</td>\n",
              "            <td>Ivy</td>\n",
              "            <td>Jones</td>\n",
              "            <td>ivyjones@email.com</td>\n",
              "        </tr>\n",
              "        <tr>\n",
              "            <td>9</td>\n",
              "            <td>Kevin</td>\n",
              "            <td>Miller</td>\n",
              "            <td>kevinmiller@email.com</td>\n",
              "        </tr>\n",
              "        <tr>\n",
              "            <td>10</td>\n",
              "            <td>Lily</td>\n",
              "            <td>Nelson</td>\n",
              "            <td>lilynelson@email.com</td>\n",
              "        </tr>\n",
              "        <tr>\n",
              "            <td>11</td>\n",
              "            <td>Oliver</td>\n",
              "            <td>Patterson</td>\n",
              "            <td>oliverpatterson@email.com</td>\n",
              "        </tr>\n",
              "        <tr>\n",
              "            <td>12</td>\n",
              "            <td>Quinn</td>\n",
              "            <td>Roberts</td>\n",
              "            <td>quinnroberts@email.com</td>\n",
              "        </tr>\n",
              "        <tr>\n",
              "            <td>13</td>\n",
              "            <td>Sophia</td>\n",
              "            <td>Thomas</td>\n",
              "            <td>sophiathomas@email.com</td>\n",
              "        </tr>\n",
              "    </tbody>\n",
              "</table>"
            ]
          },
          "metadata": {},
          "execution_count": 15
        }
      ]
    },
    {
      "cell_type": "code",
      "source": [
        "%%sql\n",
        "\n",
        "SELECT *\n",
        "\n",
        "FROM products"
      ],
      "metadata": {
        "colab": {
          "base_uri": "https://localhost:8080/",
          "height": 354
        },
        "id": "HzvrBJatS4Gn",
        "outputId": "80015d83-1f2b-4926-dcc1-ba793aba7ef6"
      },
      "execution_count": 16,
      "outputs": [
        {
          "output_type": "stream",
          "name": "stdout",
          "text": [
            " * sqlite:///ABC_DATA.db\n",
            "Done.\n"
          ]
        },
        {
          "output_type": "execute_result",
          "data": {
            "text/plain": [
              "[(1, 'Product A', 10.0),\n",
              " (2, 'Product B', 15.0),\n",
              " (3, 'Product C', 20.0),\n",
              " (4, 'Product D', 25.0),\n",
              " (5, 'Product E', 30.0),\n",
              " (6, 'Product F', 35.0),\n",
              " (7, 'Product G', 40.0),\n",
              " (8, 'Product H', 45.0),\n",
              " (9, 'Product I', 50.0),\n",
              " (10, 'Product J', 55.0),\n",
              " (11, 'Product K', 60.0),\n",
              " (12, 'Product L', 65.0),\n",
              " (13, 'Product M', 70.0)]"
            ],
            "text/html": [
              "<table>\n",
              "    <thead>\n",
              "        <tr>\n",
              "            <th>product_id</th>\n",
              "            <th>product_name</th>\n",
              "            <th>price</th>\n",
              "        </tr>\n",
              "    </thead>\n",
              "    <tbody>\n",
              "        <tr>\n",
              "            <td>1</td>\n",
              "            <td>Product A</td>\n",
              "            <td>10.0</td>\n",
              "        </tr>\n",
              "        <tr>\n",
              "            <td>2</td>\n",
              "            <td>Product B</td>\n",
              "            <td>15.0</td>\n",
              "        </tr>\n",
              "        <tr>\n",
              "            <td>3</td>\n",
              "            <td>Product C</td>\n",
              "            <td>20.0</td>\n",
              "        </tr>\n",
              "        <tr>\n",
              "            <td>4</td>\n",
              "            <td>Product D</td>\n",
              "            <td>25.0</td>\n",
              "        </tr>\n",
              "        <tr>\n",
              "            <td>5</td>\n",
              "            <td>Product E</td>\n",
              "            <td>30.0</td>\n",
              "        </tr>\n",
              "        <tr>\n",
              "            <td>6</td>\n",
              "            <td>Product F</td>\n",
              "            <td>35.0</td>\n",
              "        </tr>\n",
              "        <tr>\n",
              "            <td>7</td>\n",
              "            <td>Product G</td>\n",
              "            <td>40.0</td>\n",
              "        </tr>\n",
              "        <tr>\n",
              "            <td>8</td>\n",
              "            <td>Product H</td>\n",
              "            <td>45.0</td>\n",
              "        </tr>\n",
              "        <tr>\n",
              "            <td>9</td>\n",
              "            <td>Product I</td>\n",
              "            <td>50.0</td>\n",
              "        </tr>\n",
              "        <tr>\n",
              "            <td>10</td>\n",
              "            <td>Product J</td>\n",
              "            <td>55.0</td>\n",
              "        </tr>\n",
              "        <tr>\n",
              "            <td>11</td>\n",
              "            <td>Product K</td>\n",
              "            <td>60.0</td>\n",
              "        </tr>\n",
              "        <tr>\n",
              "            <td>12</td>\n",
              "            <td>Product L</td>\n",
              "            <td>65.0</td>\n",
              "        </tr>\n",
              "        <tr>\n",
              "            <td>13</td>\n",
              "            <td>Product M</td>\n",
              "            <td>70.0</td>\n",
              "        </tr>\n",
              "    </tbody>\n",
              "</table>"
            ]
          },
          "metadata": {},
          "execution_count": 16
        }
      ]
    },
    {
      "cell_type": "code",
      "source": [
        "%%sql\n",
        "\n",
        "SELECT *\n",
        "\n",
        "FROM orders"
      ],
      "metadata": {
        "colab": {
          "base_uri": "https://localhost:8080/",
          "height": 418
        },
        "id": "jrECdR5nTG0N",
        "outputId": "5ffc1d9e-9781-4a08-95ec-a1d03f9889c5"
      },
      "execution_count": 17,
      "outputs": [
        {
          "output_type": "stream",
          "name": "stdout",
          "text": [
            " * sqlite:///ABC_DATA.db\n",
            "Done.\n"
          ]
        },
        {
          "output_type": "execute_result",
          "data": {
            "text/plain": [
              "[(1, 1, '2023-05-01'),\n",
              " (2, 2, '2023-05-02'),\n",
              " (3, 3, '2023-05-03'),\n",
              " (4, 1, '2023-05-04'),\n",
              " (5, 2, '2023-05-05'),\n",
              " (6, 3, '2023-05-06'),\n",
              " (7, 4, '2023-05-07'),\n",
              " (8, 5, '2023-05-08'),\n",
              " (9, 6, '2023-05-09'),\n",
              " (10, 7, '2023-05-10'),\n",
              " (11, 8, '2023-05-11'),\n",
              " (12, 9, '2023-05-12'),\n",
              " (13, 10, '2023-05-13'),\n",
              " (14, 11, '2023-05-14'),\n",
              " (15, 12, '2023-05-15'),\n",
              " (16, 13, '2023-05-16')]"
            ],
            "text/html": [
              "<table>\n",
              "    <thead>\n",
              "        <tr>\n",
              "            <th>order_id</th>\n",
              "            <th>customer_id</th>\n",
              "            <th>order_date</th>\n",
              "        </tr>\n",
              "    </thead>\n",
              "    <tbody>\n",
              "        <tr>\n",
              "            <td>1</td>\n",
              "            <td>1</td>\n",
              "            <td>2023-05-01</td>\n",
              "        </tr>\n",
              "        <tr>\n",
              "            <td>2</td>\n",
              "            <td>2</td>\n",
              "            <td>2023-05-02</td>\n",
              "        </tr>\n",
              "        <tr>\n",
              "            <td>3</td>\n",
              "            <td>3</td>\n",
              "            <td>2023-05-03</td>\n",
              "        </tr>\n",
              "        <tr>\n",
              "            <td>4</td>\n",
              "            <td>1</td>\n",
              "            <td>2023-05-04</td>\n",
              "        </tr>\n",
              "        <tr>\n",
              "            <td>5</td>\n",
              "            <td>2</td>\n",
              "            <td>2023-05-05</td>\n",
              "        </tr>\n",
              "        <tr>\n",
              "            <td>6</td>\n",
              "            <td>3</td>\n",
              "            <td>2023-05-06</td>\n",
              "        </tr>\n",
              "        <tr>\n",
              "            <td>7</td>\n",
              "            <td>4</td>\n",
              "            <td>2023-05-07</td>\n",
              "        </tr>\n",
              "        <tr>\n",
              "            <td>8</td>\n",
              "            <td>5</td>\n",
              "            <td>2023-05-08</td>\n",
              "        </tr>\n",
              "        <tr>\n",
              "            <td>9</td>\n",
              "            <td>6</td>\n",
              "            <td>2023-05-09</td>\n",
              "        </tr>\n",
              "        <tr>\n",
              "            <td>10</td>\n",
              "            <td>7</td>\n",
              "            <td>2023-05-10</td>\n",
              "        </tr>\n",
              "        <tr>\n",
              "            <td>11</td>\n",
              "            <td>8</td>\n",
              "            <td>2023-05-11</td>\n",
              "        </tr>\n",
              "        <tr>\n",
              "            <td>12</td>\n",
              "            <td>9</td>\n",
              "            <td>2023-05-12</td>\n",
              "        </tr>\n",
              "        <tr>\n",
              "            <td>13</td>\n",
              "            <td>10</td>\n",
              "            <td>2023-05-13</td>\n",
              "        </tr>\n",
              "        <tr>\n",
              "            <td>14</td>\n",
              "            <td>11</td>\n",
              "            <td>2023-05-14</td>\n",
              "        </tr>\n",
              "        <tr>\n",
              "            <td>15</td>\n",
              "            <td>12</td>\n",
              "            <td>2023-05-15</td>\n",
              "        </tr>\n",
              "        <tr>\n",
              "            <td>16</td>\n",
              "            <td>13</td>\n",
              "            <td>2023-05-16</td>\n",
              "        </tr>\n",
              "    </tbody>\n",
              "</table>"
            ]
          },
          "metadata": {},
          "execution_count": 17
        }
      ]
    },
    {
      "cell_type": "code",
      "source": [
        "%%sql\n",
        "\n",
        "SELECT *\n",
        "\n",
        "FROM order_items"
      ],
      "metadata": {
        "colab": {
          "base_uri": "https://localhost:8080/",
          "height": 760
        },
        "id": "MpgG_efSTL8y",
        "outputId": "0cd4e112-9934-454c-d848-f883c1d6c3be"
      },
      "execution_count": 18,
      "outputs": [
        {
          "output_type": "stream",
          "name": "stdout",
          "text": [
            " * sqlite:///ABC_DATA.db\n",
            "Done.\n"
          ]
        },
        {
          "output_type": "execute_result",
          "data": {
            "text/plain": [
              "[(1, 1, 2),\n",
              " (1, 2, 1),\n",
              " (2, 2, 1),\n",
              " (2, 3, 3),\n",
              " (3, 1, 1),\n",
              " (3, 3, 2),\n",
              " (4, 2, 4),\n",
              " (4, 3, 1),\n",
              " (5, 1, 1),\n",
              " (5, 3, 2),\n",
              " (6, 2, 3),\n",
              " (6, 1, 1),\n",
              " (7, 4, 1),\n",
              " (7, 5, 2),\n",
              " (8, 6, 3),\n",
              " (8, 7, 1),\n",
              " (9, 8, 2),\n",
              " (9, 9, 1),\n",
              " (10, 10, 3),\n",
              " (10, 11, 2),\n",
              " (11, 12, 1),\n",
              " (11, 13, 3),\n",
              " (12, 4, 2),\n",
              " (12, 5, 1),\n",
              " (13, 6, 3),\n",
              " (13, 7, 2),\n",
              " (14, 8, 1),\n",
              " (14, 9, 2),\n",
              " (15, 10, 3),\n",
              " (15, 11, 1),\n",
              " (16, 12, 2),\n",
              " (16, 13, 3)]"
            ],
            "text/html": [
              "<table>\n",
              "    <thead>\n",
              "        <tr>\n",
              "            <th>order_id</th>\n",
              "            <th>product_id</th>\n",
              "            <th>quantity</th>\n",
              "        </tr>\n",
              "    </thead>\n",
              "    <tbody>\n",
              "        <tr>\n",
              "            <td>1</td>\n",
              "            <td>1</td>\n",
              "            <td>2</td>\n",
              "        </tr>\n",
              "        <tr>\n",
              "            <td>1</td>\n",
              "            <td>2</td>\n",
              "            <td>1</td>\n",
              "        </tr>\n",
              "        <tr>\n",
              "            <td>2</td>\n",
              "            <td>2</td>\n",
              "            <td>1</td>\n",
              "        </tr>\n",
              "        <tr>\n",
              "            <td>2</td>\n",
              "            <td>3</td>\n",
              "            <td>3</td>\n",
              "        </tr>\n",
              "        <tr>\n",
              "            <td>3</td>\n",
              "            <td>1</td>\n",
              "            <td>1</td>\n",
              "        </tr>\n",
              "        <tr>\n",
              "            <td>3</td>\n",
              "            <td>3</td>\n",
              "            <td>2</td>\n",
              "        </tr>\n",
              "        <tr>\n",
              "            <td>4</td>\n",
              "            <td>2</td>\n",
              "            <td>4</td>\n",
              "        </tr>\n",
              "        <tr>\n",
              "            <td>4</td>\n",
              "            <td>3</td>\n",
              "            <td>1</td>\n",
              "        </tr>\n",
              "        <tr>\n",
              "            <td>5</td>\n",
              "            <td>1</td>\n",
              "            <td>1</td>\n",
              "        </tr>\n",
              "        <tr>\n",
              "            <td>5</td>\n",
              "            <td>3</td>\n",
              "            <td>2</td>\n",
              "        </tr>\n",
              "        <tr>\n",
              "            <td>6</td>\n",
              "            <td>2</td>\n",
              "            <td>3</td>\n",
              "        </tr>\n",
              "        <tr>\n",
              "            <td>6</td>\n",
              "            <td>1</td>\n",
              "            <td>1</td>\n",
              "        </tr>\n",
              "        <tr>\n",
              "            <td>7</td>\n",
              "            <td>4</td>\n",
              "            <td>1</td>\n",
              "        </tr>\n",
              "        <tr>\n",
              "            <td>7</td>\n",
              "            <td>5</td>\n",
              "            <td>2</td>\n",
              "        </tr>\n",
              "        <tr>\n",
              "            <td>8</td>\n",
              "            <td>6</td>\n",
              "            <td>3</td>\n",
              "        </tr>\n",
              "        <tr>\n",
              "            <td>8</td>\n",
              "            <td>7</td>\n",
              "            <td>1</td>\n",
              "        </tr>\n",
              "        <tr>\n",
              "            <td>9</td>\n",
              "            <td>8</td>\n",
              "            <td>2</td>\n",
              "        </tr>\n",
              "        <tr>\n",
              "            <td>9</td>\n",
              "            <td>9</td>\n",
              "            <td>1</td>\n",
              "        </tr>\n",
              "        <tr>\n",
              "            <td>10</td>\n",
              "            <td>10</td>\n",
              "            <td>3</td>\n",
              "        </tr>\n",
              "        <tr>\n",
              "            <td>10</td>\n",
              "            <td>11</td>\n",
              "            <td>2</td>\n",
              "        </tr>\n",
              "        <tr>\n",
              "            <td>11</td>\n",
              "            <td>12</td>\n",
              "            <td>1</td>\n",
              "        </tr>\n",
              "        <tr>\n",
              "            <td>11</td>\n",
              "            <td>13</td>\n",
              "            <td>3</td>\n",
              "        </tr>\n",
              "        <tr>\n",
              "            <td>12</td>\n",
              "            <td>4</td>\n",
              "            <td>2</td>\n",
              "        </tr>\n",
              "        <tr>\n",
              "            <td>12</td>\n",
              "            <td>5</td>\n",
              "            <td>1</td>\n",
              "        </tr>\n",
              "        <tr>\n",
              "            <td>13</td>\n",
              "            <td>6</td>\n",
              "            <td>3</td>\n",
              "        </tr>\n",
              "        <tr>\n",
              "            <td>13</td>\n",
              "            <td>7</td>\n",
              "            <td>2</td>\n",
              "        </tr>\n",
              "        <tr>\n",
              "            <td>14</td>\n",
              "            <td>8</td>\n",
              "            <td>1</td>\n",
              "        </tr>\n",
              "        <tr>\n",
              "            <td>14</td>\n",
              "            <td>9</td>\n",
              "            <td>2</td>\n",
              "        </tr>\n",
              "        <tr>\n",
              "            <td>15</td>\n",
              "            <td>10</td>\n",
              "            <td>3</td>\n",
              "        </tr>\n",
              "        <tr>\n",
              "            <td>15</td>\n",
              "            <td>11</td>\n",
              "            <td>1</td>\n",
              "        </tr>\n",
              "        <tr>\n",
              "            <td>16</td>\n",
              "            <td>12</td>\n",
              "            <td>2</td>\n",
              "        </tr>\n",
              "        <tr>\n",
              "            <td>16</td>\n",
              "            <td>13</td>\n",
              "            <td>3</td>\n",
              "        </tr>\n",
              "    </tbody>\n",
              "</table>"
            ]
          },
          "metadata": {},
          "execution_count": 18
        }
      ]
    }
  ]
}