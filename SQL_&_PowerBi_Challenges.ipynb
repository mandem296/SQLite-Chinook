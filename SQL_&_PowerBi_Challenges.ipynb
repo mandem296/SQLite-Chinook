{
  "nbformat": 4,
  "nbformat_minor": 0,
  "metadata": {
    "colab": {
      "provenance": [],
      "authorship_tag": "ABX9TyP8cAbjA1c6rjMK6sVjpHwL",
      "include_colab_link": true
    },
    "kernelspec": {
      "name": "python3",
      "display_name": "Python 3"
    },
    "language_info": {
      "name": "python"
    }
  },
  "cells": [
    {
      "cell_type": "markdown",
      "metadata": {
        "id": "view-in-github",
        "colab_type": "text"
      },
      "source": [
        "<a href=\"https://colab.research.google.com/github/mandem296/SQLite-Chinook/blob/main/SQL_%26_PowerBi_Challenges.ipynb\" target=\"_parent\"><img src=\"https://colab.research.google.com/assets/colab-badge.svg\" alt=\"Open In Colab\"/></a>"
      ]
    },
    {
      "cell_type": "markdown",
      "source": [
        "# **CHALLENGES**"
      ],
      "metadata": {
        "id": "qVlz5eRMMJMJ"
      }
    },
    {
      "cell_type": "markdown",
      "source": [
        "## **Week 1 Daily Challenges**"
      ],
      "metadata": {
        "id": "7936VptIMRIv"
      }
    },
    {
      "cell_type": "markdown",
      "source": [
        "### **Day 1: Develop database called ABC_DATA and use it to store:**\n",
        "\n",
        "*   Customer info\n",
        "*   Customer orders\n",
        "*   Product info\n",
        "*   Order Info\n",
        "\n"
      ],
      "metadata": {
        "id": "xfgn4grgMXyD"
      }
    },
    {
      "cell_type": "code",
      "execution_count": 1,
      "metadata": {
        "colab": {
          "base_uri": "https://localhost:8080/"
        },
        "id": "OhhcyxBcL8_b",
        "outputId": "dba87bed-c12b-4211-b8d8-cb413981241e"
      },
      "outputs": [
        {
          "output_type": "stream",
          "name": "stdout",
          "text": [
            "Collecting pymysql\n",
            "  Downloading PyMySQL-1.1.0-py3-none-any.whl (44 kB)\n",
            "\u001b[?25l     \u001b[90m━━━━━━━━━━━━━━━━━━━━━━━━━━━━━━━━━━━━━━━━\u001b[0m \u001b[32m0.0/44.8 kB\u001b[0m \u001b[31m?\u001b[0m eta \u001b[36m-:--:--\u001b[0m\r\u001b[2K     \u001b[90m━━━━━━━━━━━━━━━━━━━━━━━━━━━━━━━━━━━━━━━━\u001b[0m \u001b[32m44.8/44.8 kB\u001b[0m \u001b[31m1.3 MB/s\u001b[0m eta \u001b[36m0:00:00\u001b[0m\n",
            "\u001b[?25hInstalling collected packages: pymysql\n",
            "Successfully installed pymysql-1.1.0\n"
          ]
        }
      ],
      "source": [
        "!pip install pymysql"
      ]
    },
    {
      "cell_type": "code",
      "source": [
        "%load_ext sql"
      ],
      "metadata": {
        "id": "aAYuPKNRNa_a"
      },
      "execution_count": 2,
      "outputs": []
    },
    {
      "cell_type": "code",
      "source": [
        "#Creating the database\n",
        "%sql sqlite:///ABC_DATA.db"
      ],
      "metadata": {
        "id": "Mj0M1nfhNemE"
      },
      "execution_count": 3,
      "outputs": []
    },
    {
      "cell_type": "code",
      "source": [
        "#creating the customers info table\n",
        "\n",
        "%%sql\n",
        "\n",
        "CREATE TABLE customers_info (\n",
        "  customer_id integer PRIMARY KEY,\n",
        "  customer_first_name varchar(100),\n",
        "  customer_last_name varchar(100),\n",
        "  customer_email varchar(100)\n",
        ");"
      ],
      "metadata": {
        "colab": {
          "base_uri": "https://localhost:8080/"
        },
        "id": "aVmlocwINsw9",
        "outputId": "1cc28dc5-81ee-4c89-d83a-6cf6f618c8f3"
      },
      "execution_count": 4,
      "outputs": [
        {
          "output_type": "stream",
          "name": "stdout",
          "text": [
            " * sqlite:///ABC_DATA.db\n",
            "Done.\n"
          ]
        },
        {
          "output_type": "execute_result",
          "data": {
            "text/plain": [
              "[]"
            ]
          },
          "metadata": {},
          "execution_count": 4
        }
      ]
    },
    {
      "cell_type": "code",
      "source": [
        "#creating the products table\n",
        "\n",
        "%%sql\n",
        "\n",
        "CREATE TABLE products (\n",
        "  product_id integer PRIMARY KEY,\n",
        "  product_name varchar(100),\n",
        "  price float(4)\n",
        ");"
      ],
      "metadata": {
        "colab": {
          "base_uri": "https://localhost:8080/"
        },
        "id": "Z1aoDAtxO0tU",
        "outputId": "f0030721-2f6b-451d-ba34-fc61d1e877d5"
      },
      "execution_count": 5,
      "outputs": [
        {
          "output_type": "stream",
          "name": "stdout",
          "text": [
            " * sqlite:///ABC_DATA.db\n",
            "Done.\n"
          ]
        },
        {
          "output_type": "execute_result",
          "data": {
            "text/plain": [
              "[]"
            ]
          },
          "metadata": {},
          "execution_count": 5
        }
      ]
    },
    {
      "cell_type": "code",
      "source": [
        "#creating the orders table\n",
        "\n",
        "%%sql\n",
        "\n",
        "CREATE TABLE orders (\n",
        "  order_id integer PRIMARY KEY,\n",
        "  customer_id integer,\n",
        "  order_date DATE\n",
        ");"
      ],
      "metadata": {
        "colab": {
          "base_uri": "https://localhost:8080/"
        },
        "id": "5vpUk8qSPLg1",
        "outputId": "627b03d1-e8cb-49f3-8cd6-403e84a18ef0"
      },
      "execution_count": 6,
      "outputs": [
        {
          "output_type": "stream",
          "name": "stdout",
          "text": [
            " * sqlite:///ABC_DATA.db\n",
            "Done.\n"
          ]
        },
        {
          "output_type": "execute_result",
          "data": {
            "text/plain": [
              "[]"
            ]
          },
          "metadata": {},
          "execution_count": 6
        }
      ]
    },
    {
      "cell_type": "code",
      "source": [
        "#creating the Order_items table\n",
        "\n",
        "%%sql\n",
        "\n",
        "CREATE TABLE order_items (\n",
        "  order_id integer,\n",
        "  product_id integer,\n",
        "  quantity integer\n",
        ");"
      ],
      "metadata": {
        "colab": {
          "base_uri": "https://localhost:8080/"
        },
        "id": "1eGJr2ZbPh9e",
        "outputId": "f1e55e47-1efd-43b8-a41d-794a426db701"
      },
      "execution_count": 7,
      "outputs": [
        {
          "output_type": "stream",
          "name": "stdout",
          "text": [
            " * sqlite:///ABC_DATA.db\n",
            "Done.\n"
          ]
        },
        {
          "output_type": "execute_result",
          "data": {
            "text/plain": [
              "[]"
            ]
          },
          "metadata": {},
          "execution_count": 7
        }
      ]
    },
    {
      "cell_type": "code",
      "source": [
        "#Listing all column names in a particular table. We are looking at the schema\n",
        "\n",
        "%%sql\n",
        "\n",
        "PRAGMA table_info(customers_info)"
      ],
      "metadata": {
        "colab": {
          "base_uri": "https://localhost:8080/",
          "height": 162
        },
        "id": "kIf87aVnQik6",
        "outputId": "1dd65baa-f6a2-41a0-a201-52a4fe52717c"
      },
      "execution_count": 8,
      "outputs": [
        {
          "output_type": "stream",
          "name": "stdout",
          "text": [
            " * sqlite:///ABC_DATA.db\n",
            "Done.\n"
          ]
        },
        {
          "output_type": "execute_result",
          "data": {
            "text/plain": [
              "[(0, 'customer_id', 'INTEGER', 0, None, 1),\n",
              " (1, 'customer_first_name', 'varchar(100)', 0, None, 0),\n",
              " (2, 'customer_last_name', 'varchar(100)', 0, None, 0),\n",
              " (3, 'customer_email', 'varchar(100)', 0, None, 0)]"
            ],
            "text/html": [
              "<table>\n",
              "    <thead>\n",
              "        <tr>\n",
              "            <th>cid</th>\n",
              "            <th>name</th>\n",
              "            <th>type</th>\n",
              "            <th>notnull</th>\n",
              "            <th>dflt_value</th>\n",
              "            <th>pk</th>\n",
              "        </tr>\n",
              "    </thead>\n",
              "    <tbody>\n",
              "        <tr>\n",
              "            <td>0</td>\n",
              "            <td>customer_id</td>\n",
              "            <td>INTEGER</td>\n",
              "            <td>0</td>\n",
              "            <td>None</td>\n",
              "            <td>1</td>\n",
              "        </tr>\n",
              "        <tr>\n",
              "            <td>1</td>\n",
              "            <td>customer_first_name</td>\n",
              "            <td>varchar(100)</td>\n",
              "            <td>0</td>\n",
              "            <td>None</td>\n",
              "            <td>0</td>\n",
              "        </tr>\n",
              "        <tr>\n",
              "            <td>2</td>\n",
              "            <td>customer_last_name</td>\n",
              "            <td>varchar(100)</td>\n",
              "            <td>0</td>\n",
              "            <td>None</td>\n",
              "            <td>0</td>\n",
              "        </tr>\n",
              "        <tr>\n",
              "            <td>3</td>\n",
              "            <td>customer_email</td>\n",
              "            <td>varchar(100)</td>\n",
              "            <td>0</td>\n",
              "            <td>None</td>\n",
              "            <td>0</td>\n",
              "        </tr>\n",
              "    </tbody>\n",
              "</table>"
            ]
          },
          "metadata": {},
          "execution_count": 8
        }
      ]
    },
    {
      "cell_type": "code",
      "source": [
        "#Listing all column names in a particular table. We are looking at the schema\n",
        "\n",
        "%%sql\n",
        "\n",
        "PRAGMA table_info(products)"
      ],
      "metadata": {
        "colab": {
          "base_uri": "https://localhost:8080/",
          "height": 140
        },
        "id": "Cr6lbtJbRDGy",
        "outputId": "2a1c14f0-2f7d-4f11-9381-29ecd529289b"
      },
      "execution_count": 9,
      "outputs": [
        {
          "output_type": "stream",
          "name": "stdout",
          "text": [
            " * sqlite:///ABC_DATA.db\n",
            "Done.\n"
          ]
        },
        {
          "output_type": "execute_result",
          "data": {
            "text/plain": [
              "[(0, 'product_id', 'INTEGER', 0, None, 1),\n",
              " (1, 'product_name', 'varchar(100)', 0, None, 0),\n",
              " (2, 'price', 'float(4)', 0, None, 0)]"
            ],
            "text/html": [
              "<table>\n",
              "    <thead>\n",
              "        <tr>\n",
              "            <th>cid</th>\n",
              "            <th>name</th>\n",
              "            <th>type</th>\n",
              "            <th>notnull</th>\n",
              "            <th>dflt_value</th>\n",
              "            <th>pk</th>\n",
              "        </tr>\n",
              "    </thead>\n",
              "    <tbody>\n",
              "        <tr>\n",
              "            <td>0</td>\n",
              "            <td>product_id</td>\n",
              "            <td>INTEGER</td>\n",
              "            <td>0</td>\n",
              "            <td>None</td>\n",
              "            <td>1</td>\n",
              "        </tr>\n",
              "        <tr>\n",
              "            <td>1</td>\n",
              "            <td>product_name</td>\n",
              "            <td>varchar(100)</td>\n",
              "            <td>0</td>\n",
              "            <td>None</td>\n",
              "            <td>0</td>\n",
              "        </tr>\n",
              "        <tr>\n",
              "            <td>2</td>\n",
              "            <td>price</td>\n",
              "            <td>float(4)</td>\n",
              "            <td>0</td>\n",
              "            <td>None</td>\n",
              "            <td>0</td>\n",
              "        </tr>\n",
              "    </tbody>\n",
              "</table>"
            ]
          },
          "metadata": {},
          "execution_count": 9
        }
      ]
    },
    {
      "cell_type": "code",
      "source": [
        "#Listing all column names in a particular table. We are looking at the schema\n",
        "\n",
        "%%sql\n",
        "\n",
        "PRAGMA table_info(orders)"
      ],
      "metadata": {
        "colab": {
          "base_uri": "https://localhost:8080/",
          "height": 140
        },
        "id": "fp9X4MBPRKLY",
        "outputId": "9048f647-1193-4a5b-e3b3-b2e861e8d160"
      },
      "execution_count": 10,
      "outputs": [
        {
          "output_type": "stream",
          "name": "stdout",
          "text": [
            " * sqlite:///ABC_DATA.db\n",
            "Done.\n"
          ]
        },
        {
          "output_type": "execute_result",
          "data": {
            "text/plain": [
              "[(0, 'order_id', 'INTEGER', 0, None, 1),\n",
              " (1, 'customer_id', 'INTEGER', 0, None, 0),\n",
              " (2, 'order_date', 'DATE', 0, None, 0)]"
            ],
            "text/html": [
              "<table>\n",
              "    <thead>\n",
              "        <tr>\n",
              "            <th>cid</th>\n",
              "            <th>name</th>\n",
              "            <th>type</th>\n",
              "            <th>notnull</th>\n",
              "            <th>dflt_value</th>\n",
              "            <th>pk</th>\n",
              "        </tr>\n",
              "    </thead>\n",
              "    <tbody>\n",
              "        <tr>\n",
              "            <td>0</td>\n",
              "            <td>order_id</td>\n",
              "            <td>INTEGER</td>\n",
              "            <td>0</td>\n",
              "            <td>None</td>\n",
              "            <td>1</td>\n",
              "        </tr>\n",
              "        <tr>\n",
              "            <td>1</td>\n",
              "            <td>customer_id</td>\n",
              "            <td>INTEGER</td>\n",
              "            <td>0</td>\n",
              "            <td>None</td>\n",
              "            <td>0</td>\n",
              "        </tr>\n",
              "        <tr>\n",
              "            <td>2</td>\n",
              "            <td>order_date</td>\n",
              "            <td>DATE</td>\n",
              "            <td>0</td>\n",
              "            <td>None</td>\n",
              "            <td>0</td>\n",
              "        </tr>\n",
              "    </tbody>\n",
              "</table>"
            ]
          },
          "metadata": {},
          "execution_count": 10
        }
      ]
    },
    {
      "cell_type": "code",
      "source": [
        "#Listing all column names in a particular table. We are looking at the schema\n",
        "\n",
        "%%sql\n",
        "\n",
        "PRAGMA table_info(order_items)"
      ],
      "metadata": {
        "colab": {
          "base_uri": "https://localhost:8080/",
          "height": 140
        },
        "id": "m1RVKp9tRN9A",
        "outputId": "a056d2f4-570c-43be-c6f7-f85b61082b64"
      },
      "execution_count": 11,
      "outputs": [
        {
          "output_type": "stream",
          "name": "stdout",
          "text": [
            " * sqlite:///ABC_DATA.db\n",
            "Done.\n"
          ]
        },
        {
          "output_type": "execute_result",
          "data": {
            "text/plain": [
              "[(0, 'order_id', 'INTEGER', 0, None, 0),\n",
              " (1, 'product_id', 'INTEGER', 0, None, 0),\n",
              " (2, 'quantity', 'INTEGER', 0, None, 0)]"
            ],
            "text/html": [
              "<table>\n",
              "    <thead>\n",
              "        <tr>\n",
              "            <th>cid</th>\n",
              "            <th>name</th>\n",
              "            <th>type</th>\n",
              "            <th>notnull</th>\n",
              "            <th>dflt_value</th>\n",
              "            <th>pk</th>\n",
              "        </tr>\n",
              "    </thead>\n",
              "    <tbody>\n",
              "        <tr>\n",
              "            <td>0</td>\n",
              "            <td>order_id</td>\n",
              "            <td>INTEGER</td>\n",
              "            <td>0</td>\n",
              "            <td>None</td>\n",
              "            <td>0</td>\n",
              "        </tr>\n",
              "        <tr>\n",
              "            <td>1</td>\n",
              "            <td>product_id</td>\n",
              "            <td>INTEGER</td>\n",
              "            <td>0</td>\n",
              "            <td>None</td>\n",
              "            <td>0</td>\n",
              "        </tr>\n",
              "        <tr>\n",
              "            <td>2</td>\n",
              "            <td>quantity</td>\n",
              "            <td>INTEGER</td>\n",
              "            <td>0</td>\n",
              "            <td>None</td>\n",
              "            <td>0</td>\n",
              "        </tr>\n",
              "    </tbody>\n",
              "</table>"
            ]
          },
          "metadata": {},
          "execution_count": 11
        }
      ]
    },
    {
      "cell_type": "code",
      "source": [
        "#shows tables contained in the Chinook Database\n",
        "%%sql\n",
        "SELECT name FROM sqlite_master WHERE type IN ('table','view') AND name NOT LIKE 'sqlite_%' ORDER BY 1"
      ],
      "metadata": {
        "colab": {
          "base_uri": "https://localhost:8080/",
          "height": 162
        },
        "id": "XVz1UdTkQ1jP",
        "outputId": "3bf67f01-58de-4107-de72-d057e612cfe9"
      },
      "execution_count": 12,
      "outputs": [
        {
          "output_type": "stream",
          "name": "stdout",
          "text": [
            " * sqlite:///ABC_DATA.db\n",
            "Done.\n"
          ]
        },
        {
          "output_type": "execute_result",
          "data": {
            "text/plain": [
              "[('customers_info',), ('order_items',), ('orders',), ('products',)]"
            ],
            "text/html": [
              "<table>\n",
              "    <thead>\n",
              "        <tr>\n",
              "            <th>name</th>\n",
              "        </tr>\n",
              "    </thead>\n",
              "    <tbody>\n",
              "        <tr>\n",
              "            <td>customers_info</td>\n",
              "        </tr>\n",
              "        <tr>\n",
              "            <td>order_items</td>\n",
              "        </tr>\n",
              "        <tr>\n",
              "            <td>orders</td>\n",
              "        </tr>\n",
              "        <tr>\n",
              "            <td>products</td>\n",
              "        </tr>\n",
              "    </tbody>\n",
              "</table>"
            ]
          },
          "metadata": {},
          "execution_count": 12
        }
      ]
    },
    {
      "cell_type": "markdown",
      "source": [],
      "metadata": {
        "id": "OLx7bJcDRfI7"
      }
    },
    {
      "cell_type": "markdown",
      "source": [
        "### **Day 2: Inserting data into the tables**\n",
        "\n",
        "\n"
      ],
      "metadata": {
        "id": "Ww2gOSkuRghp"
      }
    },
    {
      "cell_type": "code",
      "source": [
        "%%sql\n",
        "\n",
        "    INSERT INTO products (product_id, product_name, price) VALUES\n",
        "    (1, 'Product A', 10.00),\n",
        "    (2, 'Product B', 15.00),\n",
        "    (3, 'Product C', 20.00),\n",
        "    (4, 'Product D', 25.00),\n",
        "    (5, 'Product E', 30.00),\n",
        "    (6, 'Product F', 35.00),\n",
        "    (7, 'Product G', 40.00),\n",
        "    (8, 'Product H', 45.00),\n",
        "    (9, 'Product I', 50.00),\n",
        "    (10, 'Product J', 55.00),\n",
        "    (11, 'Product K', 60.00),\n",
        "    (12, 'Product L', 65.00),\n",
        "    (13, 'Product M', 70.00);\n",
        "\n",
        "    INSERT INTO orders (order_id, customer_id, order_date) VALUES\n",
        "    (1, 1, '2023-05-01'),\n",
        "    (2, 2, '2023-05-02'),\n",
        "    (3, 3, '2023-05-03'),\n",
        "    (4, 1, '2023-05-04'),\n",
        "    (5, 2, '2023-05-05'),\n",
        "    (6, 3, '2023-05-06'),\n",
        "    (7, 4, '2023-05-07'),\n",
        "    (8, 5, '2023-05-08'),\n",
        "    (9, 6, '2023-05-09'),\n",
        "    (10, 7, '2023-05-10'),\n",
        "    (11, 8, '2023-05-11'),\n",
        "    (12, 9, '2023-05-12'),\n",
        "    (13, 10, '2023-05-13'),\n",
        "    (14, 11, '2023-05-14'),\n",
        "    (15, 12, '2023-05-15'),\n",
        "    (16, 13, '2023-05-16');\n",
        "\n",
        "    INSERT INTO order_items (order_id, product_id, quantity) VALUES\n",
        "    (1, 1, 2),\n",
        "    (1, 2, 1),\n",
        "    (2, 2, 1),\n",
        "    (2, 3, 3),\n",
        "    (3, 1, 1),\n",
        "    (3, 3, 2),\n",
        "    (4, 2, 4),\n",
        "    (4, 3, 1),\n",
        "    (5, 1, 1),\n",
        "    (5, 3, 2),\n",
        "    (6, 2, 3),\n",
        "    (6, 1, 1),\n",
        "    (7, 4, 1),\n",
        "    (7, 5, 2),\n",
        "    (8, 6, 3),\n",
        "    (8, 7, 1),\n",
        "    (9, 8, 2),\n",
        "    (9, 9, 1),\n",
        "    (10, 10, 3),\n",
        "    (10, 11, 2),\n",
        "    (11, 12, 1),\n",
        "    (11, 13, 3),\n",
        "    (12, 4, 2),\n",
        "    (12, 5, 1),\n",
        "    (13, 6, 3),\n",
        "    (13, 7, 2),\n",
        "    (14, 8, 1),\n",
        "    (14, 9, 2),\n",
        "    (15, 10, 3),\n",
        "    (15, 11, 1),\n",
        "    (16, 12, 2),\n",
        "    (16, 13, 3);"
      ],
      "metadata": {
        "colab": {
          "base_uri": "https://localhost:8080/"
        },
        "id": "uPyyaK90SBvL",
        "outputId": "edb8295a-817f-4be1-e817-9315aee71b26"
      },
      "execution_count": 13,
      "outputs": [
        {
          "output_type": "stream",
          "name": "stdout",
          "text": [
            " * sqlite:///ABC_DATA.db\n",
            "13 rows affected.\n",
            "16 rows affected.\n",
            "32 rows affected.\n"
          ]
        },
        {
          "output_type": "execute_result",
          "data": {
            "text/plain": [
              "[]"
            ]
          },
          "metadata": {},
          "execution_count": 13
        }
      ]
    },
    {
      "cell_type": "code",
      "source": [
        "%%sql\n",
        "\n",
        "INSERT INTO customers_info (customer_id, customer_first_name, customer_last_name, customer_email) VALUES\n",
        "    (1, 'John', 'Doe', 'johndoe@email.com'),\n",
        "    (2, 'Jane', 'Smith', 'janesmith@email.com'),\n",
        "    (3, 'Bob', 'Johnson', 'bobjohnson@email.com'),\n",
        "    (4, 'Alice', 'Brown', 'alicebrown@email.com'),\n",
        "    (5, 'Charlie', 'Davis', 'charliedavis@email.com'),\n",
        "    (6, 'Eva', 'Fisher', 'evafisher@email.com'),\n",
        "    (7, 'George', 'Harris', 'georgeharris@email.com'),\n",
        "    (8, 'Ivy', 'Jones', 'ivyjones@email.com'),\n",
        "    (9, 'Kevin', 'Miller', 'kevinmiller@email.com'),\n",
        "    (10, 'Lily', 'Nelson', 'lilynelson@email.com'),\n",
        "    (11, 'Oliver', 'Patterson', 'oliverpatterson@email.com'),\n",
        "    (12, 'Quinn', 'Roberts', 'quinnroberts@email.com'),\n",
        "    (13, 'Sophia', 'Thomas', 'sophiathomas@email.com');"
      ],
      "metadata": {
        "colab": {
          "base_uri": "https://localhost:8080/"
        },
        "id": "8HkdflukSc2z",
        "outputId": "2f03168f-7edf-47ac-bb92-a874707e861d"
      },
      "execution_count": 14,
      "outputs": [
        {
          "output_type": "stream",
          "name": "stdout",
          "text": [
            " * sqlite:///ABC_DATA.db\n",
            "13 rows affected.\n"
          ]
        },
        {
          "output_type": "execute_result",
          "data": {
            "text/plain": [
              "[]"
            ]
          },
          "metadata": {},
          "execution_count": 14
        }
      ]
    },
    {
      "cell_type": "code",
      "source": [
        "%%sql\n",
        "\n",
        "SELECT *\n",
        "\n",
        "FROM customers_info"
      ],
      "metadata": {
        "colab": {
          "base_uri": "https://localhost:8080/",
          "height": 354
        },
        "id": "Vdd4TrLKSwiE",
        "outputId": "844240ac-8fba-43b1-8e51-1f6619ed7005"
      },
      "execution_count": 15,
      "outputs": [
        {
          "output_type": "stream",
          "name": "stdout",
          "text": [
            " * sqlite:///ABC_DATA.db\n",
            "Done.\n"
          ]
        },
        {
          "output_type": "execute_result",
          "data": {
            "text/plain": [
              "[(1, 'John', 'Doe', 'johndoe@email.com'),\n",
              " (2, 'Jane', 'Smith', 'janesmith@email.com'),\n",
              " (3, 'Bob', 'Johnson', 'bobjohnson@email.com'),\n",
              " (4, 'Alice', 'Brown', 'alicebrown@email.com'),\n",
              " (5, 'Charlie', 'Davis', 'charliedavis@email.com'),\n",
              " (6, 'Eva', 'Fisher', 'evafisher@email.com'),\n",
              " (7, 'George', 'Harris', 'georgeharris@email.com'),\n",
              " (8, 'Ivy', 'Jones', 'ivyjones@email.com'),\n",
              " (9, 'Kevin', 'Miller', 'kevinmiller@email.com'),\n",
              " (10, 'Lily', 'Nelson', 'lilynelson@email.com'),\n",
              " (11, 'Oliver', 'Patterson', 'oliverpatterson@email.com'),\n",
              " (12, 'Quinn', 'Roberts', 'quinnroberts@email.com'),\n",
              " (13, 'Sophia', 'Thomas', 'sophiathomas@email.com')]"
            ],
            "text/html": [
              "<table>\n",
              "    <thead>\n",
              "        <tr>\n",
              "            <th>customer_id</th>\n",
              "            <th>customer_first_name</th>\n",
              "            <th>customer_last_name</th>\n",
              "            <th>customer_email</th>\n",
              "        </tr>\n",
              "    </thead>\n",
              "    <tbody>\n",
              "        <tr>\n",
              "            <td>1</td>\n",
              "            <td>John</td>\n",
              "            <td>Doe</td>\n",
              "            <td>johndoe@email.com</td>\n",
              "        </tr>\n",
              "        <tr>\n",
              "            <td>2</td>\n",
              "            <td>Jane</td>\n",
              "            <td>Smith</td>\n",
              "            <td>janesmith@email.com</td>\n",
              "        </tr>\n",
              "        <tr>\n",
              "            <td>3</td>\n",
              "            <td>Bob</td>\n",
              "            <td>Johnson</td>\n",
              "            <td>bobjohnson@email.com</td>\n",
              "        </tr>\n",
              "        <tr>\n",
              "            <td>4</td>\n",
              "            <td>Alice</td>\n",
              "            <td>Brown</td>\n",
              "            <td>alicebrown@email.com</td>\n",
              "        </tr>\n",
              "        <tr>\n",
              "            <td>5</td>\n",
              "            <td>Charlie</td>\n",
              "            <td>Davis</td>\n",
              "            <td>charliedavis@email.com</td>\n",
              "        </tr>\n",
              "        <tr>\n",
              "            <td>6</td>\n",
              "            <td>Eva</td>\n",
              "            <td>Fisher</td>\n",
              "            <td>evafisher@email.com</td>\n",
              "        </tr>\n",
              "        <tr>\n",
              "            <td>7</td>\n",
              "            <td>George</td>\n",
              "            <td>Harris</td>\n",
              "            <td>georgeharris@email.com</td>\n",
              "        </tr>\n",
              "        <tr>\n",
              "            <td>8</td>\n",
              "            <td>Ivy</td>\n",
              "            <td>Jones</td>\n",
              "            <td>ivyjones@email.com</td>\n",
              "        </tr>\n",
              "        <tr>\n",
              "            <td>9</td>\n",
              "            <td>Kevin</td>\n",
              "            <td>Miller</td>\n",
              "            <td>kevinmiller@email.com</td>\n",
              "        </tr>\n",
              "        <tr>\n",
              "            <td>10</td>\n",
              "            <td>Lily</td>\n",
              "            <td>Nelson</td>\n",
              "            <td>lilynelson@email.com</td>\n",
              "        </tr>\n",
              "        <tr>\n",
              "            <td>11</td>\n",
              "            <td>Oliver</td>\n",
              "            <td>Patterson</td>\n",
              "            <td>oliverpatterson@email.com</td>\n",
              "        </tr>\n",
              "        <tr>\n",
              "            <td>12</td>\n",
              "            <td>Quinn</td>\n",
              "            <td>Roberts</td>\n",
              "            <td>quinnroberts@email.com</td>\n",
              "        </tr>\n",
              "        <tr>\n",
              "            <td>13</td>\n",
              "            <td>Sophia</td>\n",
              "            <td>Thomas</td>\n",
              "            <td>sophiathomas@email.com</td>\n",
              "        </tr>\n",
              "    </tbody>\n",
              "</table>"
            ]
          },
          "metadata": {},
          "execution_count": 15
        }
      ]
    },
    {
      "cell_type": "code",
      "source": [
        "%%sql\n",
        "\n",
        "SELECT *\n",
        "\n",
        "FROM products"
      ],
      "metadata": {
        "colab": {
          "base_uri": "https://localhost:8080/",
          "height": 354
        },
        "id": "HzvrBJatS4Gn",
        "outputId": "80015d83-1f2b-4926-dcc1-ba793aba7ef6"
      },
      "execution_count": 16,
      "outputs": [
        {
          "output_type": "stream",
          "name": "stdout",
          "text": [
            " * sqlite:///ABC_DATA.db\n",
            "Done.\n"
          ]
        },
        {
          "output_type": "execute_result",
          "data": {
            "text/plain": [
              "[(1, 'Product A', 10.0),\n",
              " (2, 'Product B', 15.0),\n",
              " (3, 'Product C', 20.0),\n",
              " (4, 'Product D', 25.0),\n",
              " (5, 'Product E', 30.0),\n",
              " (6, 'Product F', 35.0),\n",
              " (7, 'Product G', 40.0),\n",
              " (8, 'Product H', 45.0),\n",
              " (9, 'Product I', 50.0),\n",
              " (10, 'Product J', 55.0),\n",
              " (11, 'Product K', 60.0),\n",
              " (12, 'Product L', 65.0),\n",
              " (13, 'Product M', 70.0)]"
            ],
            "text/html": [
              "<table>\n",
              "    <thead>\n",
              "        <tr>\n",
              "            <th>product_id</th>\n",
              "            <th>product_name</th>\n",
              "            <th>price</th>\n",
              "        </tr>\n",
              "    </thead>\n",
              "    <tbody>\n",
              "        <tr>\n",
              "            <td>1</td>\n",
              "            <td>Product A</td>\n",
              "            <td>10.0</td>\n",
              "        </tr>\n",
              "        <tr>\n",
              "            <td>2</td>\n",
              "            <td>Product B</td>\n",
              "            <td>15.0</td>\n",
              "        </tr>\n",
              "        <tr>\n",
              "            <td>3</td>\n",
              "            <td>Product C</td>\n",
              "            <td>20.0</td>\n",
              "        </tr>\n",
              "        <tr>\n",
              "            <td>4</td>\n",
              "            <td>Product D</td>\n",
              "            <td>25.0</td>\n",
              "        </tr>\n",
              "        <tr>\n",
              "            <td>5</td>\n",
              "            <td>Product E</td>\n",
              "            <td>30.0</td>\n",
              "        </tr>\n",
              "        <tr>\n",
              "            <td>6</td>\n",
              "            <td>Product F</td>\n",
              "            <td>35.0</td>\n",
              "        </tr>\n",
              "        <tr>\n",
              "            <td>7</td>\n",
              "            <td>Product G</td>\n",
              "            <td>40.0</td>\n",
              "        </tr>\n",
              "        <tr>\n",
              "            <td>8</td>\n",
              "            <td>Product H</td>\n",
              "            <td>45.0</td>\n",
              "        </tr>\n",
              "        <tr>\n",
              "            <td>9</td>\n",
              "            <td>Product I</td>\n",
              "            <td>50.0</td>\n",
              "        </tr>\n",
              "        <tr>\n",
              "            <td>10</td>\n",
              "            <td>Product J</td>\n",
              "            <td>55.0</td>\n",
              "        </tr>\n",
              "        <tr>\n",
              "            <td>11</td>\n",
              "            <td>Product K</td>\n",
              "            <td>60.0</td>\n",
              "        </tr>\n",
              "        <tr>\n",
              "            <td>12</td>\n",
              "            <td>Product L</td>\n",
              "            <td>65.0</td>\n",
              "        </tr>\n",
              "        <tr>\n",
              "            <td>13</td>\n",
              "            <td>Product M</td>\n",
              "            <td>70.0</td>\n",
              "        </tr>\n",
              "    </tbody>\n",
              "</table>"
            ]
          },
          "metadata": {},
          "execution_count": 16
        }
      ]
    },
    {
      "cell_type": "code",
      "source": [
        "%%sql\n",
        "\n",
        "SELECT *\n",
        "\n",
        "FROM orders"
      ],
      "metadata": {
        "colab": {
          "base_uri": "https://localhost:8080/",
          "height": 418
        },
        "id": "jrECdR5nTG0N",
        "outputId": "5ffc1d9e-9781-4a08-95ec-a1d03f9889c5"
      },
      "execution_count": 17,
      "outputs": [
        {
          "output_type": "stream",
          "name": "stdout",
          "text": [
            " * sqlite:///ABC_DATA.db\n",
            "Done.\n"
          ]
        },
        {
          "output_type": "execute_result",
          "data": {
            "text/plain": [
              "[(1, 1, '2023-05-01'),\n",
              " (2, 2, '2023-05-02'),\n",
              " (3, 3, '2023-05-03'),\n",
              " (4, 1, '2023-05-04'),\n",
              " (5, 2, '2023-05-05'),\n",
              " (6, 3, '2023-05-06'),\n",
              " (7, 4, '2023-05-07'),\n",
              " (8, 5, '2023-05-08'),\n",
              " (9, 6, '2023-05-09'),\n",
              " (10, 7, '2023-05-10'),\n",
              " (11, 8, '2023-05-11'),\n",
              " (12, 9, '2023-05-12'),\n",
              " (13, 10, '2023-05-13'),\n",
              " (14, 11, '2023-05-14'),\n",
              " (15, 12, '2023-05-15'),\n",
              " (16, 13, '2023-05-16')]"
            ],
            "text/html": [
              "<table>\n",
              "    <thead>\n",
              "        <tr>\n",
              "            <th>order_id</th>\n",
              "            <th>customer_id</th>\n",
              "            <th>order_date</th>\n",
              "        </tr>\n",
              "    </thead>\n",
              "    <tbody>\n",
              "        <tr>\n",
              "            <td>1</td>\n",
              "            <td>1</td>\n",
              "            <td>2023-05-01</td>\n",
              "        </tr>\n",
              "        <tr>\n",
              "            <td>2</td>\n",
              "            <td>2</td>\n",
              "            <td>2023-05-02</td>\n",
              "        </tr>\n",
              "        <tr>\n",
              "            <td>3</td>\n",
              "            <td>3</td>\n",
              "            <td>2023-05-03</td>\n",
              "        </tr>\n",
              "        <tr>\n",
              "            <td>4</td>\n",
              "            <td>1</td>\n",
              "            <td>2023-05-04</td>\n",
              "        </tr>\n",
              "        <tr>\n",
              "            <td>5</td>\n",
              "            <td>2</td>\n",
              "            <td>2023-05-05</td>\n",
              "        </tr>\n",
              "        <tr>\n",
              "            <td>6</td>\n",
              "            <td>3</td>\n",
              "            <td>2023-05-06</td>\n",
              "        </tr>\n",
              "        <tr>\n",
              "            <td>7</td>\n",
              "            <td>4</td>\n",
              "            <td>2023-05-07</td>\n",
              "        </tr>\n",
              "        <tr>\n",
              "            <td>8</td>\n",
              "            <td>5</td>\n",
              "            <td>2023-05-08</td>\n",
              "        </tr>\n",
              "        <tr>\n",
              "            <td>9</td>\n",
              "            <td>6</td>\n",
              "            <td>2023-05-09</td>\n",
              "        </tr>\n",
              "        <tr>\n",
              "            <td>10</td>\n",
              "            <td>7</td>\n",
              "            <td>2023-05-10</td>\n",
              "        </tr>\n",
              "        <tr>\n",
              "            <td>11</td>\n",
              "            <td>8</td>\n",
              "            <td>2023-05-11</td>\n",
              "        </tr>\n",
              "        <tr>\n",
              "            <td>12</td>\n",
              "            <td>9</td>\n",
              "            <td>2023-05-12</td>\n",
              "        </tr>\n",
              "        <tr>\n",
              "            <td>13</td>\n",
              "            <td>10</td>\n",
              "            <td>2023-05-13</td>\n",
              "        </tr>\n",
              "        <tr>\n",
              "            <td>14</td>\n",
              "            <td>11</td>\n",
              "            <td>2023-05-14</td>\n",
              "        </tr>\n",
              "        <tr>\n",
              "            <td>15</td>\n",
              "            <td>12</td>\n",
              "            <td>2023-05-15</td>\n",
              "        </tr>\n",
              "        <tr>\n",
              "            <td>16</td>\n",
              "            <td>13</td>\n",
              "            <td>2023-05-16</td>\n",
              "        </tr>\n",
              "    </tbody>\n",
              "</table>"
            ]
          },
          "metadata": {},
          "execution_count": 17
        }
      ]
    },
    {
      "cell_type": "code",
      "source": [
        "%%sql\n",
        "\n",
        "SELECT *\n",
        "\n",
        "FROM order_items"
      ],
      "metadata": {
        "colab": {
          "base_uri": "https://localhost:8080/",
          "height": 760
        },
        "id": "MpgG_efSTL8y",
        "outputId": "0cd4e112-9934-454c-d848-f883c1d6c3be"
      },
      "execution_count": 18,
      "outputs": [
        {
          "output_type": "stream",
          "name": "stdout",
          "text": [
            " * sqlite:///ABC_DATA.db\n",
            "Done.\n"
          ]
        },
        {
          "output_type": "execute_result",
          "data": {
            "text/plain": [
              "[(1, 1, 2),\n",
              " (1, 2, 1),\n",
              " (2, 2, 1),\n",
              " (2, 3, 3),\n",
              " (3, 1, 1),\n",
              " (3, 3, 2),\n",
              " (4, 2, 4),\n",
              " (4, 3, 1),\n",
              " (5, 1, 1),\n",
              " (5, 3, 2),\n",
              " (6, 2, 3),\n",
              " (6, 1, 1),\n",
              " (7, 4, 1),\n",
              " (7, 5, 2),\n",
              " (8, 6, 3),\n",
              " (8, 7, 1),\n",
              " (9, 8, 2),\n",
              " (9, 9, 1),\n",
              " (10, 10, 3),\n",
              " (10, 11, 2),\n",
              " (11, 12, 1),\n",
              " (11, 13, 3),\n",
              " (12, 4, 2),\n",
              " (12, 5, 1),\n",
              " (13, 6, 3),\n",
              " (13, 7, 2),\n",
              " (14, 8, 1),\n",
              " (14, 9, 2),\n",
              " (15, 10, 3),\n",
              " (15, 11, 1),\n",
              " (16, 12, 2),\n",
              " (16, 13, 3)]"
            ],
            "text/html": [
              "<table>\n",
              "    <thead>\n",
              "        <tr>\n",
              "            <th>order_id</th>\n",
              "            <th>product_id</th>\n",
              "            <th>quantity</th>\n",
              "        </tr>\n",
              "    </thead>\n",
              "    <tbody>\n",
              "        <tr>\n",
              "            <td>1</td>\n",
              "            <td>1</td>\n",
              "            <td>2</td>\n",
              "        </tr>\n",
              "        <tr>\n",
              "            <td>1</td>\n",
              "            <td>2</td>\n",
              "            <td>1</td>\n",
              "        </tr>\n",
              "        <tr>\n",
              "            <td>2</td>\n",
              "            <td>2</td>\n",
              "            <td>1</td>\n",
              "        </tr>\n",
              "        <tr>\n",
              "            <td>2</td>\n",
              "            <td>3</td>\n",
              "            <td>3</td>\n",
              "        </tr>\n",
              "        <tr>\n",
              "            <td>3</td>\n",
              "            <td>1</td>\n",
              "            <td>1</td>\n",
              "        </tr>\n",
              "        <tr>\n",
              "            <td>3</td>\n",
              "            <td>3</td>\n",
              "            <td>2</td>\n",
              "        </tr>\n",
              "        <tr>\n",
              "            <td>4</td>\n",
              "            <td>2</td>\n",
              "            <td>4</td>\n",
              "        </tr>\n",
              "        <tr>\n",
              "            <td>4</td>\n",
              "            <td>3</td>\n",
              "            <td>1</td>\n",
              "        </tr>\n",
              "        <tr>\n",
              "            <td>5</td>\n",
              "            <td>1</td>\n",
              "            <td>1</td>\n",
              "        </tr>\n",
              "        <tr>\n",
              "            <td>5</td>\n",
              "            <td>3</td>\n",
              "            <td>2</td>\n",
              "        </tr>\n",
              "        <tr>\n",
              "            <td>6</td>\n",
              "            <td>2</td>\n",
              "            <td>3</td>\n",
              "        </tr>\n",
              "        <tr>\n",
              "            <td>6</td>\n",
              "            <td>1</td>\n",
              "            <td>1</td>\n",
              "        </tr>\n",
              "        <tr>\n",
              "            <td>7</td>\n",
              "            <td>4</td>\n",
              "            <td>1</td>\n",
              "        </tr>\n",
              "        <tr>\n",
              "            <td>7</td>\n",
              "            <td>5</td>\n",
              "            <td>2</td>\n",
              "        </tr>\n",
              "        <tr>\n",
              "            <td>8</td>\n",
              "            <td>6</td>\n",
              "            <td>3</td>\n",
              "        </tr>\n",
              "        <tr>\n",
              "            <td>8</td>\n",
              "            <td>7</td>\n",
              "            <td>1</td>\n",
              "        </tr>\n",
              "        <tr>\n",
              "            <td>9</td>\n",
              "            <td>8</td>\n",
              "            <td>2</td>\n",
              "        </tr>\n",
              "        <tr>\n",
              "            <td>9</td>\n",
              "            <td>9</td>\n",
              "            <td>1</td>\n",
              "        </tr>\n",
              "        <tr>\n",
              "            <td>10</td>\n",
              "            <td>10</td>\n",
              "            <td>3</td>\n",
              "        </tr>\n",
              "        <tr>\n",
              "            <td>10</td>\n",
              "            <td>11</td>\n",
              "            <td>2</td>\n",
              "        </tr>\n",
              "        <tr>\n",
              "            <td>11</td>\n",
              "            <td>12</td>\n",
              "            <td>1</td>\n",
              "        </tr>\n",
              "        <tr>\n",
              "            <td>11</td>\n",
              "            <td>13</td>\n",
              "            <td>3</td>\n",
              "        </tr>\n",
              "        <tr>\n",
              "            <td>12</td>\n",
              "            <td>4</td>\n",
              "            <td>2</td>\n",
              "        </tr>\n",
              "        <tr>\n",
              "            <td>12</td>\n",
              "            <td>5</td>\n",
              "            <td>1</td>\n",
              "        </tr>\n",
              "        <tr>\n",
              "            <td>13</td>\n",
              "            <td>6</td>\n",
              "            <td>3</td>\n",
              "        </tr>\n",
              "        <tr>\n",
              "            <td>13</td>\n",
              "            <td>7</td>\n",
              "            <td>2</td>\n",
              "        </tr>\n",
              "        <tr>\n",
              "            <td>14</td>\n",
              "            <td>8</td>\n",
              "            <td>1</td>\n",
              "        </tr>\n",
              "        <tr>\n",
              "            <td>14</td>\n",
              "            <td>9</td>\n",
              "            <td>2</td>\n",
              "        </tr>\n",
              "        <tr>\n",
              "            <td>15</td>\n",
              "            <td>10</td>\n",
              "            <td>3</td>\n",
              "        </tr>\n",
              "        <tr>\n",
              "            <td>15</td>\n",
              "            <td>11</td>\n",
              "            <td>1</td>\n",
              "        </tr>\n",
              "        <tr>\n",
              "            <td>16</td>\n",
              "            <td>12</td>\n",
              "            <td>2</td>\n",
              "        </tr>\n",
              "        <tr>\n",
              "            <td>16</td>\n",
              "            <td>13</td>\n",
              "            <td>3</td>\n",
              "        </tr>\n",
              "    </tbody>\n",
              "</table>"
            ]
          },
          "metadata": {},
          "execution_count": 18
        }
      ]
    },
    {
      "cell_type": "markdown",
      "source": [],
      "metadata": {
        "id": "ss-uUiGrUJXy"
      }
    },
    {
      "cell_type": "markdown",
      "source": [
        "### **Day 3: Questions:**\n",
        "\n",
        "\n",
        "\n",
        "1.   Which product has the highest price\n",
        "2.   Which order_id has the highest number of items in terms of quantity\n",
        "\n",
        "\n",
        "\n",
        "\n"
      ],
      "metadata": {
        "id": "AX8_3XqrUJxE"
      }
    },
    {
      "cell_type": "code",
      "source": [
        "#Which product has the highest price\n",
        "\n",
        "%%sql\n",
        "\n",
        "SELECT product_name, price\n",
        "\n",
        "FROM products\n",
        "\n",
        "WHERE price=(SELECT MAX(price) FROM products)"
      ],
      "metadata": {
        "colab": {
          "base_uri": "https://localhost:8080/",
          "height": 97
        },
        "id": "mtykkJP6Uov9",
        "outputId": "21d29509-a2b9-40dc-8741-ad174ed54ddb"
      },
      "execution_count": 24,
      "outputs": [
        {
          "output_type": "stream",
          "name": "stdout",
          "text": [
            " * sqlite:///ABC_DATA.db\n",
            "Done.\n"
          ]
        },
        {
          "output_type": "execute_result",
          "data": {
            "text/plain": [
              "[('Product M', 70.0)]"
            ],
            "text/html": [
              "<table>\n",
              "    <thead>\n",
              "        <tr>\n",
              "            <th>product_name</th>\n",
              "            <th>price</th>\n",
              "        </tr>\n",
              "    </thead>\n",
              "    <tbody>\n",
              "        <tr>\n",
              "            <td>Product M</td>\n",
              "            <td>70.0</td>\n",
              "        </tr>\n",
              "    </tbody>\n",
              "</table>"
            ]
          },
          "metadata": {},
          "execution_count": 24
        }
      ]
    },
    {
      "cell_type": "code",
      "source": [
        "#Which order_id has the highest number of items\n",
        "\n",
        "%%sql\n",
        "\n",
        "SELECT order_id, quantity\n",
        "\n",
        "FROM order_items\n",
        "\n",
        "WHERE quantity=(SELECT MAX(quantity) FROM order_items)"
      ],
      "metadata": {
        "colab": {
          "base_uri": "https://localhost:8080/",
          "height": 97
        },
        "id": "L6FoJ9UWVsyn",
        "outputId": "9d7dab34-7329-434f-b377-8540554717a1"
      },
      "execution_count": 25,
      "outputs": [
        {
          "output_type": "stream",
          "name": "stdout",
          "text": [
            " * sqlite:///ABC_DATA.db\n",
            "Done.\n"
          ]
        },
        {
          "output_type": "execute_result",
          "data": {
            "text/plain": [
              "[(4, 4)]"
            ],
            "text/html": [
              "<table>\n",
              "    <thead>\n",
              "        <tr>\n",
              "            <th>order_id</th>\n",
              "            <th>quantity</th>\n",
              "        </tr>\n",
              "    </thead>\n",
              "    <tbody>\n",
              "        <tr>\n",
              "            <td>4</td>\n",
              "            <td>4</td>\n",
              "        </tr>\n",
              "    </tbody>\n",
              "</table>"
            ]
          },
          "metadata": {},
          "execution_count": 25
        }
      ]
    },
    {
      "cell_type": "markdown",
      "source": [],
      "metadata": {
        "id": "3QsyDpZ8Xeyr"
      }
    },
    {
      "cell_type": "markdown",
      "source": [
        "### **Day 4: Questions:**\n",
        "\n",
        "\n",
        "\n",
        "1.   Which customer has made the most orders?\n",
        "2.   Which is the total revenue per product?\n",
        "\n",
        "\n",
        "\n",
        "\n"
      ],
      "metadata": {
        "id": "yW-ZSijlXfKn"
      }
    },
    {
      "cell_type": "code",
      "source": [
        "#customers with the most orders\n",
        "\n",
        "%%sql\n",
        "\n",
        "WITH order_counts AS (\n",
        "SELECT customer_id, COUNT(order_id) AS order_count\n",
        "FROM orders\n",
        "GROUP BY customer_id\n",
        "),\n",
        "max_order_count AS (\n",
        "    SELECT MAX(order_count) AS max_count\n",
        "    FROM order_counts\n",
        ")\n",
        "SELECT c.customer_first_name, c.customer_last_name\n",
        "FROM customers_info c\n",
        "JOIN order_counts oc ON c.customer_id = oc.customer_id\n",
        "JOIN max_order_count moc ON oc.order_count = moc.max_count;\n"
      ],
      "metadata": {
        "colab": {
          "base_uri": "https://localhost:8080/",
          "height": 140
        },
        "id": "06jcWaIbX8z8",
        "outputId": "cf12d69d-1547-4330-8194-07c648172669"
      },
      "execution_count": 31,
      "outputs": [
        {
          "output_type": "stream",
          "name": "stdout",
          "text": [
            " * sqlite:///ABC_DATA.db\n",
            "Done.\n"
          ]
        },
        {
          "output_type": "execute_result",
          "data": {
            "text/plain": [
              "[('John', 'Doe'), ('Jane', 'Smith'), ('Bob', 'Johnson')]"
            ],
            "text/html": [
              "<table>\n",
              "    <thead>\n",
              "        <tr>\n",
              "            <th>customer_first_name</th>\n",
              "            <th>customer_last_name</th>\n",
              "        </tr>\n",
              "    </thead>\n",
              "    <tbody>\n",
              "        <tr>\n",
              "            <td>John</td>\n",
              "            <td>Doe</td>\n",
              "        </tr>\n",
              "        <tr>\n",
              "            <td>Jane</td>\n",
              "            <td>Smith</td>\n",
              "        </tr>\n",
              "        <tr>\n",
              "            <td>Bob</td>\n",
              "            <td>Johnson</td>\n",
              "        </tr>\n",
              "    </tbody>\n",
              "</table>"
            ]
          },
          "metadata": {},
          "execution_count": 31
        }
      ]
    },
    {
      "cell_type": "code",
      "source": [
        "#total revenue per product\n",
        "\n",
        "%%sql\n",
        "\n",
        "SELECT p.product_name,\n",
        "       p.price * SUM(oi.quantity) AS total_revenue\n",
        "FROM products p\n",
        "JOIN order_items oi ON oi.product_id = p.product_id\n",
        "GROUP BY p.product_id, p.product_name, p.price\n",
        "ORDER BY total_revenue DESC;\n"
      ],
      "metadata": {
        "colab": {
          "base_uri": "https://localhost:8080/",
          "height": 354
        },
        "id": "QTec7T2Palav",
        "outputId": "37a9ff4f-ac55-4d01-ba3f-9ad3e71186f9"
      },
      "execution_count": 33,
      "outputs": [
        {
          "output_type": "stream",
          "name": "stdout",
          "text": [
            " * sqlite:///ABC_DATA.db\n",
            "Done.\n"
          ]
        },
        {
          "output_type": "execute_result",
          "data": {
            "text/plain": [
              "[('Product M', 420.0),\n",
              " ('Product J', 330.0),\n",
              " ('Product F', 210.0),\n",
              " ('Product L', 195.0),\n",
              " ('Product K', 180.0),\n",
              " ('Product C', 160.0),\n",
              " ('Product I', 150.0),\n",
              " ('Product B', 135.0),\n",
              " ('Product H', 135.0),\n",
              " ('Product G', 120.0),\n",
              " ('Product E', 90.0),\n",
              " ('Product D', 75.0),\n",
              " ('Product A', 50.0)]"
            ],
            "text/html": [
              "<table>\n",
              "    <thead>\n",
              "        <tr>\n",
              "            <th>product_name</th>\n",
              "            <th>total_revenue</th>\n",
              "        </tr>\n",
              "    </thead>\n",
              "    <tbody>\n",
              "        <tr>\n",
              "            <td>Product M</td>\n",
              "            <td>420.0</td>\n",
              "        </tr>\n",
              "        <tr>\n",
              "            <td>Product J</td>\n",
              "            <td>330.0</td>\n",
              "        </tr>\n",
              "        <tr>\n",
              "            <td>Product F</td>\n",
              "            <td>210.0</td>\n",
              "        </tr>\n",
              "        <tr>\n",
              "            <td>Product L</td>\n",
              "            <td>195.0</td>\n",
              "        </tr>\n",
              "        <tr>\n",
              "            <td>Product K</td>\n",
              "            <td>180.0</td>\n",
              "        </tr>\n",
              "        <tr>\n",
              "            <td>Product C</td>\n",
              "            <td>160.0</td>\n",
              "        </tr>\n",
              "        <tr>\n",
              "            <td>Product I</td>\n",
              "            <td>150.0</td>\n",
              "        </tr>\n",
              "        <tr>\n",
              "            <td>Product B</td>\n",
              "            <td>135.0</td>\n",
              "        </tr>\n",
              "        <tr>\n",
              "            <td>Product H</td>\n",
              "            <td>135.0</td>\n",
              "        </tr>\n",
              "        <tr>\n",
              "            <td>Product G</td>\n",
              "            <td>120.0</td>\n",
              "        </tr>\n",
              "        <tr>\n",
              "            <td>Product E</td>\n",
              "            <td>90.0</td>\n",
              "        </tr>\n",
              "        <tr>\n",
              "            <td>Product D</td>\n",
              "            <td>75.0</td>\n",
              "        </tr>\n",
              "        <tr>\n",
              "            <td>Product A</td>\n",
              "            <td>50.0</td>\n",
              "        </tr>\n",
              "    </tbody>\n",
              "</table>"
            ]
          },
          "metadata": {},
          "execution_count": 33
        }
      ]
    },
    {
      "cell_type": "markdown",
      "source": [],
      "metadata": {
        "id": "EU1C5v5-cTN9"
      }
    },
    {
      "cell_type": "markdown",
      "source": [
        "### **Day 5: Questions:**\n",
        "\n",
        "\n",
        "\n",
        "1.   Find the first order (by date) for each customer\n",
        "2.   Which is the total revenue per products?\n",
        "2.   Find the day with the highest revenue\n",
        "\n",
        "\n",
        "\n",
        "\n"
      ],
      "metadata": {
        "id": "_h6hI_cmcTob"
      }
    },
    {
      "cell_type": "code",
      "source": [
        "#first order by date for each customer\n",
        "\n",
        "%%sql\n",
        "\n",
        "SELECT o.customer_id, o.order_id, o.order_date\n",
        "FROM orders o\n",
        "JOIN (\n",
        "    SELECT customer_id, MIN(order_date) AS first_order_date\n",
        "    FROM orders\n",
        "    GROUP BY customer_id\n",
        ") first_orders\n",
        "ON o.customer_id = first_orders.customer_id AND o.order_date = first_orders.first_order_date;\n"
      ],
      "metadata": {
        "colab": {
          "base_uri": "https://localhost:8080/",
          "height": 354
        },
        "id": "LyDOmqfxcqcZ",
        "outputId": "f2a50b2e-0136-4e28-a9f3-ca8987fc30f0"
      },
      "execution_count": 35,
      "outputs": [
        {
          "output_type": "stream",
          "name": "stdout",
          "text": [
            " * sqlite:///ABC_DATA.db\n",
            "Done.\n"
          ]
        },
        {
          "output_type": "execute_result",
          "data": {
            "text/plain": [
              "[(1, 1, '2023-05-01'),\n",
              " (2, 2, '2023-05-02'),\n",
              " (3, 3, '2023-05-03'),\n",
              " (4, 7, '2023-05-07'),\n",
              " (5, 8, '2023-05-08'),\n",
              " (6, 9, '2023-05-09'),\n",
              " (7, 10, '2023-05-10'),\n",
              " (8, 11, '2023-05-11'),\n",
              " (9, 12, '2023-05-12'),\n",
              " (10, 13, '2023-05-13'),\n",
              " (11, 14, '2023-05-14'),\n",
              " (12, 15, '2023-05-15'),\n",
              " (13, 16, '2023-05-16')]"
            ],
            "text/html": [
              "<table>\n",
              "    <thead>\n",
              "        <tr>\n",
              "            <th>customer_id</th>\n",
              "            <th>order_id</th>\n",
              "            <th>order_date</th>\n",
              "        </tr>\n",
              "    </thead>\n",
              "    <tbody>\n",
              "        <tr>\n",
              "            <td>1</td>\n",
              "            <td>1</td>\n",
              "            <td>2023-05-01</td>\n",
              "        </tr>\n",
              "        <tr>\n",
              "            <td>2</td>\n",
              "            <td>2</td>\n",
              "            <td>2023-05-02</td>\n",
              "        </tr>\n",
              "        <tr>\n",
              "            <td>3</td>\n",
              "            <td>3</td>\n",
              "            <td>2023-05-03</td>\n",
              "        </tr>\n",
              "        <tr>\n",
              "            <td>4</td>\n",
              "            <td>7</td>\n",
              "            <td>2023-05-07</td>\n",
              "        </tr>\n",
              "        <tr>\n",
              "            <td>5</td>\n",
              "            <td>8</td>\n",
              "            <td>2023-05-08</td>\n",
              "        </tr>\n",
              "        <tr>\n",
              "            <td>6</td>\n",
              "            <td>9</td>\n",
              "            <td>2023-05-09</td>\n",
              "        </tr>\n",
              "        <tr>\n",
              "            <td>7</td>\n",
              "            <td>10</td>\n",
              "            <td>2023-05-10</td>\n",
              "        </tr>\n",
              "        <tr>\n",
              "            <td>8</td>\n",
              "            <td>11</td>\n",
              "            <td>2023-05-11</td>\n",
              "        </tr>\n",
              "        <tr>\n",
              "            <td>9</td>\n",
              "            <td>12</td>\n",
              "            <td>2023-05-12</td>\n",
              "        </tr>\n",
              "        <tr>\n",
              "            <td>10</td>\n",
              "            <td>13</td>\n",
              "            <td>2023-05-13</td>\n",
              "        </tr>\n",
              "        <tr>\n",
              "            <td>11</td>\n",
              "            <td>14</td>\n",
              "            <td>2023-05-14</td>\n",
              "        </tr>\n",
              "        <tr>\n",
              "            <td>12</td>\n",
              "            <td>15</td>\n",
              "            <td>2023-05-15</td>\n",
              "        </tr>\n",
              "        <tr>\n",
              "            <td>13</td>\n",
              "            <td>16</td>\n",
              "            <td>2023-05-16</td>\n",
              "        </tr>\n",
              "    </tbody>\n",
              "</table>"
            ]
          },
          "metadata": {},
          "execution_count": 35
        }
      ]
    },
    {
      "cell_type": "code",
      "source": [
        "#Total revenue per product\n",
        "\n",
        "%%sql\n",
        "\n",
        "SELECT p.product_name,\n",
        "       p.price * SUM(oi.quantity) AS total_revenue\n",
        "FROM products p\n",
        "JOIN order_items oi ON oi.product_id = p.product_id\n",
        "GROUP BY p.product_id, p.product_name, p.price\n",
        "ORDER BY total_revenue DESC;"
      ],
      "metadata": {
        "colab": {
          "base_uri": "https://localhost:8080/",
          "height": 354
        },
        "id": "yGtwemeReTJh",
        "outputId": "77dbfbd6-5aa4-4ad8-c0f9-18551a13f864"
      },
      "execution_count": 34,
      "outputs": [
        {
          "output_type": "stream",
          "name": "stdout",
          "text": [
            " * sqlite:///ABC_DATA.db\n",
            "Done.\n"
          ]
        },
        {
          "output_type": "execute_result",
          "data": {
            "text/plain": [
              "[('Product M', 420.0),\n",
              " ('Product J', 330.0),\n",
              " ('Product F', 210.0),\n",
              " ('Product L', 195.0),\n",
              " ('Product K', 180.0),\n",
              " ('Product C', 160.0),\n",
              " ('Product I', 150.0),\n",
              " ('Product B', 135.0),\n",
              " ('Product H', 135.0),\n",
              " ('Product G', 120.0),\n",
              " ('Product E', 90.0),\n",
              " ('Product D', 75.0),\n",
              " ('Product A', 50.0)]"
            ],
            "text/html": [
              "<table>\n",
              "    <thead>\n",
              "        <tr>\n",
              "            <th>product_name</th>\n",
              "            <th>total_revenue</th>\n",
              "        </tr>\n",
              "    </thead>\n",
              "    <tbody>\n",
              "        <tr>\n",
              "            <td>Product M</td>\n",
              "            <td>420.0</td>\n",
              "        </tr>\n",
              "        <tr>\n",
              "            <td>Product J</td>\n",
              "            <td>330.0</td>\n",
              "        </tr>\n",
              "        <tr>\n",
              "            <td>Product F</td>\n",
              "            <td>210.0</td>\n",
              "        </tr>\n",
              "        <tr>\n",
              "            <td>Product L</td>\n",
              "            <td>195.0</td>\n",
              "        </tr>\n",
              "        <tr>\n",
              "            <td>Product K</td>\n",
              "            <td>180.0</td>\n",
              "        </tr>\n",
              "        <tr>\n",
              "            <td>Product C</td>\n",
              "            <td>160.0</td>\n",
              "        </tr>\n",
              "        <tr>\n",
              "            <td>Product I</td>\n",
              "            <td>150.0</td>\n",
              "        </tr>\n",
              "        <tr>\n",
              "            <td>Product B</td>\n",
              "            <td>135.0</td>\n",
              "        </tr>\n",
              "        <tr>\n",
              "            <td>Product H</td>\n",
              "            <td>135.0</td>\n",
              "        </tr>\n",
              "        <tr>\n",
              "            <td>Product G</td>\n",
              "            <td>120.0</td>\n",
              "        </tr>\n",
              "        <tr>\n",
              "            <td>Product E</td>\n",
              "            <td>90.0</td>\n",
              "        </tr>\n",
              "        <tr>\n",
              "            <td>Product D</td>\n",
              "            <td>75.0</td>\n",
              "        </tr>\n",
              "        <tr>\n",
              "            <td>Product A</td>\n",
              "            <td>50.0</td>\n",
              "        </tr>\n",
              "    </tbody>\n",
              "</table>"
            ]
          },
          "metadata": {},
          "execution_count": 34
        }
      ]
    },
    {
      "cell_type": "code",
      "source": [
        "#finding the day with the highest revenue\n",
        "\n",
        "%%sql\n",
        "\n",
        "SELECT\n",
        "    o.order_date,\n",
        "    SUM(p.price) AS total_revenue\n",
        "FROM\n",
        "    orders o\n",
        "JOIN\n",
        "    order_items oi ON oi.order_id = o.order_id\n",
        "JOIN\n",
        "    products p ON p.product_id = oi.product_id\n",
        "JOIN\n",
        "    customers_info c ON c.customer_id = o.customer_id\n",
        "GROUP BY\n",
        "    o.order_date\n",
        "ORDER BY\n",
        "    total_revenue DESC\n",
        "LIMIT 1;\n",
        "\n"
      ],
      "metadata": {
        "colab": {
          "base_uri": "https://localhost:8080/",
          "height": 97
        },
        "id": "Dgn1AK-LfBT1",
        "outputId": "e1114fd7-3123-40c9-be1c-8ee3fc523f01"
      },
      "execution_count": 42,
      "outputs": [
        {
          "output_type": "stream",
          "name": "stdout",
          "text": [
            " * sqlite:///ABC_DATA.db\n",
            "Done.\n"
          ]
        },
        {
          "output_type": "execute_result",
          "data": {
            "text/plain": [
              "[('2023-05-16', 135.0)]"
            ],
            "text/html": [
              "<table>\n",
              "    <thead>\n",
              "        <tr>\n",
              "            <th>order_date</th>\n",
              "            <th>total_revenue</th>\n",
              "        </tr>\n",
              "    </thead>\n",
              "    <tbody>\n",
              "        <tr>\n",
              "            <td>2023-05-16</td>\n",
              "            <td>135.0</td>\n",
              "        </tr>\n",
              "    </tbody>\n",
              "</table>"
            ]
          },
          "metadata": {},
          "execution_count": 42
        }
      ]
    },
    {
      "cell_type": "markdown",
      "source": [],
      "metadata": {
        "id": "JtSsNIpPhw8p"
      }
    },
    {
      "cell_type": "markdown",
      "source": [
        "## **Week 1 SQL PROJECT**"
      ],
      "metadata": {
        "id": "qHIRozBfhxQ4"
      }
    },
    {
      "cell_type": "code",
      "source": [
        "#Creating the database\n",
        "%sql sqlite:///GOVT_DATA.db"
      ],
      "metadata": {
        "id": "PeY81vDTh1yc"
      },
      "execution_count": 43,
      "outputs": []
    },
    {
      "cell_type": "code",
      "source": [
        "#creating tables inside the database\n",
        "%%sql\n",
        "\n",
        "CREATE TABLE beneficiary_partner_data (\n",
        "partner_id INTEGER NOT NULL PRIMARY KEY,\n",
        "partner VARCHAR(30) NOT NULL,\n",
        "village VARCHAR(30) NOT NULL,\n",
        "beneficiaries INTEGER,\n",
        "beneficiary_type VARCHAR(30)\n",
        ");"
      ],
      "metadata": {
        "colab": {
          "base_uri": "https://localhost:8080/"
        },
        "id": "A-ZpHRZQik9U",
        "outputId": "cc126889-b2eb-4c1e-abaa-e130a2d5820e"
      },
      "execution_count": 44,
      "outputs": [
        {
          "output_type": "stream",
          "name": "stdout",
          "text": [
            "   sqlite:///ABC_DATA.db\n",
            " * sqlite:///GOVT_DATA.db\n",
            "Done.\n"
          ]
        },
        {
          "output_type": "execute_result",
          "data": {
            "text/plain": [
              "[]"
            ]
          },
          "metadata": {},
          "execution_count": 44
        }
      ]
    },
    {
      "cell_type": "code",
      "source": [
        "%%sql\n",
        "\n",
        "CREATE TABLE village_locations (\n",
        "    village_id INTEGER NOT NULL PRIMARY KEY,\n",
        "    village VARCHAR(30) NOT NULL,\n",
        "    latitude VARCHAR(30),\n",
        "    longitude VARCHAR(30),\n",
        "    total_population INTEGER\n",
        ");\n"
      ],
      "metadata": {
        "colab": {
          "base_uri": "https://localhost:8080/"
        },
        "id": "jGBMO_Iji1PL",
        "outputId": "8cea2777-8003-4453-a4a7-e6b0955a08d0"
      },
      "execution_count": 45,
      "outputs": [
        {
          "output_type": "stream",
          "name": "stdout",
          "text": [
            "   sqlite:///ABC_DATA.db\n",
            " * sqlite:///GOVT_DATA.db\n",
            "Done.\n"
          ]
        },
        {
          "output_type": "execute_result",
          "data": {
            "text/plain": [
              "[]"
            ]
          },
          "metadata": {},
          "execution_count": 45
        }
      ]
    },
    {
      "cell_type": "code",
      "source": [
        "%%sql\n",
        "\n",
        "CREATE TABLE jurisdiction_hierarchy (\n",
        "    jurisdiction_id INTEGER NOT NULL PRIMARY KEY,\n",
        "    village VARCHAR(30) NOT NULL,\n",
        "    jurisdiction_type VARCHAR(30) NOT NULL,\n",
        "    village_2 VARCHAR(30)\n",
        ");"
      ],
      "metadata": {
        "colab": {
          "base_uri": "https://localhost:8080/"
        },
        "id": "iMY50S8ujD_P",
        "outputId": "9c8b95eb-3def-4230-dc86-95fc122721dc"
      },
      "execution_count": 46,
      "outputs": [
        {
          "output_type": "stream",
          "name": "stdout",
          "text": [
            "   sqlite:///ABC_DATA.db\n",
            " * sqlite:///GOVT_DATA.db\n",
            "Done.\n"
          ]
        },
        {
          "output_type": "execute_result",
          "data": {
            "text/plain": [
              "[]"
            ]
          },
          "metadata": {},
          "execution_count": 46
        }
      ]
    },
    {
      "cell_type": "code",
      "source": [
        "#inserting data into village_locations table:\n",
        "\n",
        "%%sql\n",
        "\n",
        "INSERT INTO village_locations(village_id, village,latitude,longitude, total_population) VALUES(1,'Dharkenley','4°47''35.40\"','45°12''28.80\"',12800);\n",
        "INSERT INTO village_locations(village_id, village,latitude,longitude, total_population) VALUES(2,'Bulo-Kahin','4°47''57.00\"','45°11''5.70\"',9485);\n",
        "INSERT INTO village_locations(village_id, village,latitude,longitude, total_population) VALUES(3,'Hilo Kelyo','4°47''57.00\"','45°12''58.60\"',5212);\n",
        "INSERT INTO village_locations(village_id, village,latitude,longitude, total_population) VALUES(4,'Xubow','4°46''46.77\"','45°12''7.57\"',2558);\n",
        "INSERT INTO village_locations(village_id, village,latitude,longitude, total_population) VALUES(5,'Xiintooy','4°44''14.40\"','45°13''5.00\"',3850);\n",
        "INSERT INTO village_locations(village_id, village,latitude,longitude, total_population) VALUES(6,'Dhagax Jebis','4°44''27.86\"','45°12''42.03\"',3563);\n",
        "INSERT INTO village_locations(village_id, village,latitude,longitude, total_population) VALUES(7,'Filtare','4°44''20.43\"','45°12''27.89\"',8000);\n",
        "INSERT INTO village_locations(village_id, village,latitude,longitude, total_population) VALUES(8,'Howl-Wadaag','4°43''50.00\"','45°11''58.20\"',7525);\n",
        "INSERT INTO village_locations(village_id, village,latitude,longitude, total_population) VALUES(9,'Balcad','2°21.624''','45°23.928''',1500);\n",
        "INSERT INTO village_locations(village_id, village,latitude,longitude, total_population) VALUES(10,'Mareeray','2°23.504''','45°25.200''',7500);\n",
        "INSERT INTO village_locations(village_id, village,latitude,longitude, total_population) VALUES(11,'Kulmis','2°36.761''','45°30.642''',6058);\n",
        "INSERT INTO village_locations(village_id, village,latitude,longitude, total_population) VALUES(12,'Sabuun','2°53.020''','45°32.356''',5483);\n",
        "INSERT INTO village_locations(village_id, village,latitude,longitude, total_population) VALUES(13,'Bayaxaw','2°44.768''','45°29.727''',3000);\n",
        "INSERT INTO village_locations(village_id, village,latitude,longitude, total_population) VALUES(14,'Bayaxawo','2°44.768''','45°29.926''',7560);"
      ],
      "metadata": {
        "colab": {
          "base_uri": "https://localhost:8080/"
        },
        "id": "U6ERNQQ0tOQY",
        "outputId": "42539455-681b-4149-a412-4a17838a40ce"
      },
      "execution_count": 47,
      "outputs": [
        {
          "output_type": "stream",
          "name": "stdout",
          "text": [
            "   sqlite:///ABC_DATA.db\n",
            " * sqlite:///GOVT_DATA.db\n",
            "1 rows affected.\n",
            "1 rows affected.\n",
            "1 rows affected.\n",
            "1 rows affected.\n",
            "1 rows affected.\n",
            "1 rows affected.\n",
            "1 rows affected.\n",
            "1 rows affected.\n",
            "1 rows affected.\n",
            "1 rows affected.\n",
            "1 rows affected.\n",
            "1 rows affected.\n",
            "1 rows affected.\n",
            "1 rows affected.\n"
          ]
        },
        {
          "output_type": "execute_result",
          "data": {
            "text/plain": [
              "[]"
            ]
          },
          "metadata": {},
          "execution_count": 47
        }
      ]
    },
    {
      "cell_type": "code",
      "source": [
        "#inserting data to beneficiary_partner_data\n",
        "\n",
        "%%sql\n",
        "\n",
        "INSERT INTO beneficiary_partner_data(partner_id,partner,village,beneficiaries,beneficiary_type) VALUES(1,'IRC','Balcad','1450','Individuals');\n",
        "INSERT INTO beneficiary_partner_data(partner_id,partner,village,beneficiaries,beneficiary_type) VALUES(2,'NRC','Balcad','50','Households');\n",
        "INSERT INTO beneficiary_partner_data(partner_id,partner,village,beneficiaries,beneficiary_type) VALUES(3,'SCI','Balcad','1123','Individuals');\n",
        "INSERT INTO beneficiary_partner_data(partner_id,partner,village,beneficiaries,beneficiary_type) VALUES(4,'IMC','Balcad','1245','Individuals');\n",
        "INSERT INTO beneficiary_partner_data(partner_id,partner,village,beneficiaries,beneficiary_type) VALUES(5,'SCI','Mareeray','5200','Individuals');\n",
        "INSERT INTO beneficiary_partner_data(partner_id,partner,village,beneficiaries,beneficiary_type) VALUES(6,'IMC','Mareeray','70','Households');\n",
        "INSERT INTO beneficiary_partner_data(partner_id,partner,village,beneficiaries,beneficiary_type) VALUES(7,'IRC','Mareeray','2100','Individuals');\n",
        "INSERT INTO beneficiary_partner_data(partner_id,partner,village,beneficiaries,beneficiary_type) VALUES(8,'CESVI','Mareeray','1800','Individuals');\n",
        "INSERT INTO beneficiary_partner_data(partner_id,partner,village,beneficiaries,beneficiary_type) VALUES(9,'SCI','Kulmis','1340','Individuals');\n",
        "INSERT INTO beneficiary_partner_data(partner_id,partner,village,beneficiaries,beneficiary_type) VALUES(10,'IMC','Kulmis','55','Households');\n",
        "INSERT INTO beneficiary_partner_data(partner_id,partner,village,beneficiaries,beneficiary_type) VALUES(11,'SCI','Kulmis','4500','Individuals');\n",
        "INSERT INTO beneficiary_partner_data(partner_id,partner,village,beneficiaries,beneficiary_type) VALUES(12,'IMC','Kulmis','1670','Individuals');\n",
        "INSERT INTO beneficiary_partner_data(partner_id,partner,village,beneficiaries,beneficiary_type) VALUES(13,'IMC','Sabuun','1340','Individuals');\n",
        "INSERT INTO beneficiary_partner_data(partner_id,partner,village,beneficiaries,beneficiary_type) VALUES(14,'IRC','Sabuun','66','Households');\n",
        "INSERT INTO beneficiary_partner_data(partner_id,partner,village,beneficiaries,beneficiary_type) VALUES(15,'CESVI','Sabuun','4090','Individuals');\n",
        "INSERT INTO beneficiary_partner_data(partner_id,partner,village,beneficiaries,beneficiary_type) VALUES(16,'SCI','Sabuun','2930','Individuals');\n",
        "INSERT INTO beneficiary_partner_data(partner_id,partner,village,beneficiaries,beneficiary_type) VALUES(17,'IMC','Bayaxaw','2800','Individuals');\n",
        "INSERT INTO beneficiary_partner_data(partner_id,partner,village,beneficiaries,beneficiary_type) VALUES(18,'IRC','Bayaxaw','2100','Individuals');\n",
        "INSERT INTO beneficiary_partner_data(partner_id,partner,village,beneficiaries,beneficiary_type) VALUES(19,'CESVI','Bayaxaw','45','Households');\n",
        "INSERT INTO beneficiary_partner_data(partner_id,partner,village,beneficiaries,beneficiary_type) VALUES(20,'SCI','Bayaxaw','1700','Individuals');\n",
        "INSERT INTO beneficiary_partner_data(partner_id,partner,village,beneficiaries,beneficiary_type) VALUES(21,'SCI','Bayaxawo','5900','Individuals');\n",
        "INSERT INTO beneficiary_partner_data(partner_id,partner,village,beneficiaries,beneficiary_type) VALUES(22,'IMC','Bayaxawo','40','Households');\n",
        "INSERT INTO beneficiary_partner_data(partner_id,partner,village,beneficiaries,beneficiary_type) VALUES(23,'IRC','Bayaxawo','1500','Individuals');\n",
        "INSERT INTO beneficiary_partner_data(partner_id,partner,village,beneficiaries,beneficiary_type) VALUES(24,'CESVI','Bayaxawo','1260','Individuals');\n",
        "INSERT INTO beneficiary_partner_data(partner_id,partner,village,beneficiaries,beneficiary_type) VALUES(25,'CESVI','Dharkenley','7880','Individuals');\n",
        "INSERT INTO beneficiary_partner_data(partner_id,partner,village,beneficiaries,beneficiary_type) VALUES(26,'IRC','Dharkenley','34','Households');\n",
        "INSERT INTO beneficiary_partner_data(partner_id,partner,village,beneficiaries,beneficiary_type) VALUES(27,'SCI','Bulo-Kahin','4300','Individuals');\n",
        "INSERT INTO beneficiary_partner_data(partner_id,partner,village,beneficiaries,beneficiary_type) VALUES(28,'IMC','Bulo-Kahin','4212','Individuals');\n",
        "INSERT INTO beneficiary_partner_data(partner_id,partner,village,beneficiaries,beneficiary_type) VALUES(29,'IRC','Bulo-Kahin','3200','Individuals');\n",
        "INSERT INTO beneficiary_partner_data(partner_id,partner,village,beneficiaries,beneficiary_type) VALUES(30,'IRC','Hilo Kelyo','5212','Individuals');\n",
        "INSERT INTO beneficiary_partner_data(partner_id,partner,village,beneficiaries,beneficiary_type) VALUES(31,'SCI','Hilo Kelyo','25','Households');\n",
        "INSERT INTO beneficiary_partner_data(partner_id,partner,village,beneficiaries,beneficiary_type) VALUES(32,'CESVI','Xubow','2157','Individuals');\n",
        "INSERT INTO beneficiary_partner_data(partner_id,partner,village,beneficiaries,beneficiary_type) VALUES(33,'IMC','Xiintooy','1667','Individuals');\n",
        "INSERT INTO beneficiary_partner_data(partner_id,partner,village,beneficiaries,beneficiary_type) VALUES(34,'IRC','Xiintooy','2667','Individuals');\n",
        "INSERT INTO beneficiary_partner_data(partner_id,partner,village,beneficiaries,beneficiary_type) VALUES(35,'CESVI','Dhagax Jebis','2856','Individuals');\n",
        "INSERT INTO beneficiary_partner_data(partner_id,partner,village,beneficiaries,beneficiary_type) VALUES(36,'CESVI','Filtare','7519','Individuals');\n",
        "INSERT INTO beneficiary_partner_data(partner_id,partner,village,beneficiaries,beneficiary_type) VALUES(37,'CESVI','Howl-Wadaag','6870','Individuals');\n",
        "INSERT INTO beneficiary_partner_data(partner_id,partner,village,beneficiaries,beneficiary_type) VALUES(38,'IMC','Howl-Wadaag','32','Households');\n"
      ],
      "metadata": {
        "colab": {
          "base_uri": "https://localhost:8080/"
        },
        "id": "jEi0NBXttelE",
        "outputId": "e4b9c4d8-41f1-4907-f9bc-929a2e9681a7"
      },
      "execution_count": 49,
      "outputs": [
        {
          "output_type": "stream",
          "name": "stdout",
          "text": [
            "   sqlite:///ABC_DATA.db\n",
            " * sqlite:///GOVT_DATA.db\n",
            "1 rows affected.\n",
            "1 rows affected.\n",
            "1 rows affected.\n",
            "1 rows affected.\n",
            "1 rows affected.\n",
            "1 rows affected.\n",
            "1 rows affected.\n",
            "1 rows affected.\n",
            "1 rows affected.\n",
            "1 rows affected.\n",
            "1 rows affected.\n",
            "1 rows affected.\n",
            "1 rows affected.\n",
            "1 rows affected.\n",
            "1 rows affected.\n",
            "1 rows affected.\n",
            "1 rows affected.\n",
            "1 rows affected.\n",
            "1 rows affected.\n",
            "1 rows affected.\n",
            "1 rows affected.\n",
            "1 rows affected.\n",
            "1 rows affected.\n",
            "1 rows affected.\n",
            "1 rows affected.\n",
            "1 rows affected.\n",
            "1 rows affected.\n",
            "1 rows affected.\n",
            "1 rows affected.\n",
            "1 rows affected.\n",
            "1 rows affected.\n",
            "1 rows affected.\n",
            "1 rows affected.\n",
            "1 rows affected.\n",
            "1 rows affected.\n",
            "1 rows affected.\n",
            "1 rows affected.\n",
            "1 rows affected.\n"
          ]
        },
        {
          "output_type": "execute_result",
          "data": {
            "text/plain": [
              "[]"
            ]
          },
          "metadata": {},
          "execution_count": 49
        }
      ]
    },
    {
      "cell_type": "code",
      "source": [
        "#inserting data to jurisdiction_hierarchy table\n",
        "\n",
        "%%sql\n",
        "\n",
        "INSERT INTO jurisdiction_hierarchy VALUES(1,'Middle Shabelle','Region',NULL);\n",
        "INSERT INTO jurisdiction_hierarchy VALUES(2,'Hiraan','Region',NULL);\n",
        "INSERT INTO jurisdiction_hierarchy VALUES(3,'Balcad','District','Middle Shabelle');\n",
        "INSERT INTO jurisdiction_hierarchy VALUES(4,'Jowhar','District','Middle Shabelle');\n",
        "INSERT INTO jurisdiction_hierarchy VALUES(5,'Beledweyn','District','Hiraan');\n",
        "INSERT INTO jurisdiction_hierarchy VALUES(6,'Dharkenley','Village','Beledweyn');\n",
        "INSERT INTO jurisdiction_hierarchy VALUES(7,'Bulo-Kahin','Village','Beledweyn');\n",
        "INSERT INTO jurisdiction_hierarchy VALUES(8,'Hilo Kelyo','Village','Beledweyn');\n",
        "INSERT INTO jurisdiction_hierarchy VALUES(9,'Xubow','Village','Beledweyn');\n",
        "INSERT INTO jurisdiction_hierarchy VALUES(10,'Xiintooy','Village','Beledweyn');\n",
        "INSERT INTO jurisdiction_hierarchy VALUES(11,'Dhagax Jebis','Village','Beledweyn');\n",
        "INSERT INTO jurisdiction_hierarchy VALUES(12,'Filtare','Village','Beledweyn');\n",
        "INSERT INTO jurisdiction_hierarchy VALUES(13,'Howl-Wadaag','Village','Beledweyn');\n",
        "INSERT INTO jurisdiction_hierarchy VALUES(14,'Balcad','Village','Balcad');\n",
        "INSERT INTO jurisdiction_hierarchy VALUES(15,'Mareeray','Village','Balcad');\n",
        "INSERT INTO jurisdiction_hierarchy VALUES(16,'Kulmis','Village','Balcad');\n",
        "INSERT INTO jurisdiction_hierarchy VALUES(17,'Sabuun','Village','Jowhar');\n",
        "INSERT INTO jurisdiction_hierarchy VALUES(18,'Bayaxaw','Village','Jowhar');"
      ],
      "metadata": {
        "colab": {
          "base_uri": "https://localhost:8080/"
        },
        "id": "qXx2JmmEtkB1",
        "outputId": "a461cbc8-557a-474e-9381-71e20c4c1e95"
      },
      "execution_count": 50,
      "outputs": [
        {
          "output_type": "stream",
          "name": "stdout",
          "text": [
            "   sqlite:///ABC_DATA.db\n",
            " * sqlite:///GOVT_DATA.db\n",
            "1 rows affected.\n",
            "1 rows affected.\n",
            "1 rows affected.\n",
            "1 rows affected.\n",
            "1 rows affected.\n",
            "1 rows affected.\n",
            "1 rows affected.\n",
            "1 rows affected.\n",
            "1 rows affected.\n",
            "1 rows affected.\n",
            "1 rows affected.\n",
            "1 rows affected.\n",
            "1 rows affected.\n",
            "1 rows affected.\n",
            "1 rows affected.\n",
            "1 rows affected.\n",
            "1 rows affected.\n",
            "1 rows affected.\n"
          ]
        },
        {
          "output_type": "execute_result",
          "data": {
            "text/plain": [
              "[]"
            ]
          },
          "metadata": {},
          "execution_count": 50
        }
      ]
    }
  ]
}